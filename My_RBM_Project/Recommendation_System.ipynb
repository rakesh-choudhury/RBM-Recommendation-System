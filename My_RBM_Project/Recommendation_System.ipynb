{
  "nbformat": 4,
  "nbformat_minor": 0,
  "metadata": {
    "colab": {
      "name": "Assignment4_DataPreparation.ipynb",
      "provenance": [],
      "collapsed_sections": []
    },
    "kernelspec": {
      "display_name": "Python 3",
      "language": "python",
      "name": "python3"
    },
    "language_info": {
      "codemirror_mode": {
        "name": "ipython",
        "version": 3
      },
      "file_extension": ".py",
      "mimetype": "text/x-python",
      "name": "python",
      "nbconvert_exporter": "python",
      "pygments_lexer": "ipython3",
      "version": "3.7.4"
    }
  },
  "cells": [
    {
      "cell_type": "code",
      "metadata": {
        "colab_type": "code",
        "id": "PC6lUqCB1Wo9",
        "outputId": "8533d0fd-993e-4ebb-8b43-02476c9f07e9",
        "colab": {
          "base_uri": "https://localhost:8080/",
          "height": 71
        }
      },
      "source": [
        "import numpy as np # linear algebra\n",
        "import pandas as pd # data processing, CSV file I/O (e.g. pd.read_csv)\n",
        "import os\n",
        "from IPython.core.interactiveshell import InteractiveShell\n",
        "InteractiveShell.ast_node_interactivity = \"all\"\n",
        "import math\n",
        "import json\n",
        "import time\n",
        "import matplotlib.pyplot as plt\n",
        "import seaborn as sns\n",
        "from sklearn.metrics.pairwise import cosine_similarity\n",
        "from sklearn.model_selection import train_test_split\n",
        "from sklearn.neighbors import NearestNeighbors\n",
        "from sklearn.externals import joblib\n",
        "import scipy.sparse\n",
        "from scipy.sparse import csr_matrix\n",
        "from scipy.sparse.linalg import svds\n",
        "import warnings; warnings.simplefilter('ignore')\n",
        "import random\n",
        "%matplotlib inline"
      ],
      "execution_count": 1,
      "outputs": [
        {
          "output_type": "stream",
          "text": [
            "/usr/local/lib/python3.6/dist-packages/sklearn/externals/joblib/__init__.py:15: FutureWarning: sklearn.externals.joblib is deprecated in 0.21 and will be removed in 0.23. Please import this functionality directly from joblib, which can be installed with: pip install joblib. If this warning is raised when loading pickled models, you may need to re-serialize those models with scikit-learn 0.21+.\n",
            "  warnings.warn(msg, category=FutureWarning)\n"
          ],
          "name": "stderr"
        }
      ]
    },
    {
      "cell_type": "code",
      "metadata": {
        "colab_type": "code",
        "id": "vOEdhB8kzBzo",
        "colab": {}
      },
      "source": [
        "import pandas as pd\n",
        "import matplotlib.pyplot as plt \n",
        "import numpy as np"
      ],
      "execution_count": 0,
      "outputs": []
    },
    {
      "cell_type": "code",
      "metadata": {
        "colab_type": "code",
        "id": "DDXEtMiPxzCL",
        "outputId": "800845e9-f776-4ca0-b20e-a3f18607dea0",
        "colab": {
          "base_uri": "https://localhost:8080/",
          "height": 122
        }
      },
      "source": [
        "from google.colab import drive\n",
        "drive.mount('/content/drive')"
      ],
      "execution_count": 3,
      "outputs": [
        {
          "output_type": "stream",
          "text": [
            "Go to this URL in a browser: https://accounts.google.com/o/oauth2/auth?client_id=947318989803-6bn6qk8qdgf4n4g3pfee6491hc0brc4i.apps.googleusercontent.com&redirect_uri=urn%3aietf%3awg%3aoauth%3a2.0%3aoob&response_type=code&scope=email%20https%3a%2f%2fwww.googleapis.com%2fauth%2fdocs.test%20https%3a%2f%2fwww.googleapis.com%2fauth%2fdrive%20https%3a%2f%2fwww.googleapis.com%2fauth%2fdrive.photos.readonly%20https%3a%2f%2fwww.googleapis.com%2fauth%2fpeopleapi.readonly\n",
            "\n",
            "Enter your authorization code:\n",
            "··········\n",
            "Mounted at /content/drive\n"
          ],
          "name": "stdout"
        }
      ]
    },
    {
      "cell_type": "code",
      "metadata": {
        "colab_type": "code",
        "id": "7Ff3fcICzdIl",
        "colab": {}
      },
      "source": [
        "electronics_data = pd.read_csv(\"/content/drive/My Drive/Attribution Model Assignment/ratings_Electronics.csv.zip\",names=['UserId', 'ProductId','Rating','Timestamp'], sep=',', compression='zip')\n",
        "\n",
        "\n"
      ],
      "execution_count": 0,
      "outputs": []
    },
    {
      "cell_type": "code",
      "metadata": {
        "colab_type": "code",
        "id": "thJ_fAYly95K",
        "outputId": "d18ff3ef-f3ac-4b3c-afa9-e532a099d16e",
        "colab": {
          "base_uri": "https://localhost:8080/",
          "height": 204
        }
      },
      "source": [
        "electronics_data.head()"
      ],
      "execution_count": 5,
      "outputs": [
        {
          "output_type": "execute_result",
          "data": {
            "text/html": [
              "<div>\n",
              "<style scoped>\n",
              "    .dataframe tbody tr th:only-of-type {\n",
              "        vertical-align: middle;\n",
              "    }\n",
              "\n",
              "    .dataframe tbody tr th {\n",
              "        vertical-align: top;\n",
              "    }\n",
              "\n",
              "    .dataframe thead th {\n",
              "        text-align: right;\n",
              "    }\n",
              "</style>\n",
              "<table border=\"1\" class=\"dataframe\">\n",
              "  <thead>\n",
              "    <tr style=\"text-align: right;\">\n",
              "      <th></th>\n",
              "      <th>UserId</th>\n",
              "      <th>ProductId</th>\n",
              "      <th>Rating</th>\n",
              "      <th>Timestamp</th>\n",
              "    </tr>\n",
              "  </thead>\n",
              "  <tbody>\n",
              "    <tr>\n",
              "      <th>0</th>\n",
              "      <td>AKM1MP6P0OYPR</td>\n",
              "      <td>0132793040</td>\n",
              "      <td>5.0</td>\n",
              "      <td>1365811200</td>\n",
              "    </tr>\n",
              "    <tr>\n",
              "      <th>1</th>\n",
              "      <td>A2CX7LUOHB2NDG</td>\n",
              "      <td>0321732944</td>\n",
              "      <td>5.0</td>\n",
              "      <td>1341100800</td>\n",
              "    </tr>\n",
              "    <tr>\n",
              "      <th>2</th>\n",
              "      <td>A2NWSAGRHCP8N5</td>\n",
              "      <td>0439886341</td>\n",
              "      <td>1.0</td>\n",
              "      <td>1367193600</td>\n",
              "    </tr>\n",
              "    <tr>\n",
              "      <th>3</th>\n",
              "      <td>A2WNBOD3WNDNKT</td>\n",
              "      <td>0439886341</td>\n",
              "      <td>3.0</td>\n",
              "      <td>1374451200</td>\n",
              "    </tr>\n",
              "    <tr>\n",
              "      <th>4</th>\n",
              "      <td>A1GI0U4ZRJA8WN</td>\n",
              "      <td>0439886341</td>\n",
              "      <td>1.0</td>\n",
              "      <td>1334707200</td>\n",
              "    </tr>\n",
              "  </tbody>\n",
              "</table>\n",
              "</div>"
            ],
            "text/plain": [
              "           UserId   ProductId  Rating   Timestamp\n",
              "0   AKM1MP6P0OYPR  0132793040     5.0  1365811200\n",
              "1  A2CX7LUOHB2NDG  0321732944     5.0  1341100800\n",
              "2  A2NWSAGRHCP8N5  0439886341     1.0  1367193600\n",
              "3  A2WNBOD3WNDNKT  0439886341     3.0  1374451200\n",
              "4  A1GI0U4ZRJA8WN  0439886341     1.0  1334707200"
            ]
          },
          "metadata": {
            "tags": []
          },
          "execution_count": 5
        }
      ]
    },
    {
      "cell_type": "code",
      "metadata": {
        "colab_type": "code",
        "id": "DqlwBMI9fRVF",
        "colab": {}
      },
      "source": [
        ""
      ],
      "execution_count": 0,
      "outputs": []
    },
    {
      "cell_type": "code",
      "metadata": {
        "colab_type": "code",
        "id": "kaweXxxHzNSx",
        "colab": {}
      },
      "source": [
        "electronics_data=electronics_data.iloc[:10485,0:]"
      ],
      "execution_count": 0,
      "outputs": []
    },
    {
      "cell_type": "code",
      "metadata": {
        "colab_type": "code",
        "id": "fuedWnfz0XfH",
        "outputId": "dc87d956-63f0-44bb-d520-b5e4cea760a9",
        "colab": {
          "base_uri": "https://localhost:8080/",
          "height": 34
        }
      },
      "source": [
        "electronics_data.shape"
      ],
      "execution_count": 7,
      "outputs": [
        {
          "output_type": "execute_result",
          "data": {
            "text/plain": [
              "(10485, 4)"
            ]
          },
          "metadata": {
            "tags": []
          },
          "execution_count": 7
        }
      ]
    },
    {
      "cell_type": "code",
      "metadata": {
        "colab_type": "code",
        "id": "h9zbNCkl0bDm",
        "outputId": "922e9589-1fd9-4869-82a3-6a53e4dc27e1",
        "colab": {
          "base_uri": "https://localhost:8080/",
          "height": 102
        }
      },
      "source": [
        "electronics_data.dtypes"
      ],
      "execution_count": 8,
      "outputs": [
        {
          "output_type": "execute_result",
          "data": {
            "text/plain": [
              "UserId        object\n",
              "ProductId     object\n",
              "Rating       float64\n",
              "Timestamp      int64\n",
              "dtype: object"
            ]
          },
          "metadata": {
            "tags": []
          },
          "execution_count": 8
        }
      ]
    },
    {
      "cell_type": "code",
      "metadata": {
        "colab_type": "code",
        "id": "LZOcYCfI0mnQ",
        "outputId": "23238b77-ecb8-41aa-cdb6-35ff102c0b39",
        "colab": {
          "base_uri": "https://localhost:8080/",
          "height": 170
        }
      },
      "source": [
        "electronics_data.info()"
      ],
      "execution_count": 0,
      "outputs": [
        {
          "output_type": "stream",
          "text": [
            "<class 'pandas.core.frame.DataFrame'>\n",
            "RangeIndex: 10485 entries, 0 to 10484\n",
            "Data columns (total 4 columns):\n",
            "UserId       10485 non-null object\n",
            "ProductId    10485 non-null object\n",
            "Rating       10485 non-null float64\n",
            "Timestamp    10485 non-null int64\n",
            "dtypes: float64(1), int64(1), object(2)\n",
            "memory usage: 327.8+ KB\n"
          ],
          "name": "stdout"
        }
      ]
    },
    {
      "cell_type": "code",
      "metadata": {
        "colab_type": "code",
        "id": "48g8Vzv3PSZ5",
        "colab": {}
      },
      "source": [
        "# Adding column Prouct_price to the DataFrame\n",
        "\n",
        "#electronics_data['Product_Price'] = np.random.randint(15,500,size=(len(electronics_data)))\n",
        "#electronics_data\n",
        "#print('Min price is: %d' %(electronics_data.Product_Price.min()))\n",
        "#print('Max price is: %d' %(electronics_data.Product_Price.max()))"
      ],
      "execution_count": 0,
      "outputs": []
    },
    {
      "cell_type": "code",
      "metadata": {
        "colab_type": "code",
        "id": "B7z6WI8wYOIl",
        "colab": {}
      },
      "source": [
        "# Adding column 'Snack_Sub_Name' to the DataFrame\n",
        "\n",
        "#snack_sub_name = { 'Snackfair', 'Snakku', 'Love With Food', 'Candy Club', 'NatureBox', 'SnackNation', 'ZenPop', 'Yummy Bazaar World Sampler', 'FitSnack', 'Bokksu', 'MunchPak', 'Keto Krate', 'Universal Yums', 'Vegan Cuts Snack Box', 'TokyoTreat', 'Try the World Snack'}\n",
        "\n",
        "#electronics_data['Snack_Sub_Name'] = np.random.choice(list(snack_sub_name), len(electronics_data))\n",
        "#electronics_data"
      ],
      "execution_count": 0,
      "outputs": []
    },
    {
      "cell_type": "code",
      "metadata": {
        "colab_type": "code",
        "id": "3CMrVwAupT8u",
        "outputId": "3cb19c19-d203-4578-962e-64db0ef475c0",
        "colab": {
          "base_uri": "https://localhost:8080/",
          "height": 419
        }
      },
      "source": [
        "Price = {'Snackfair': 15.50, 'Snakku':38.95, 'Love With Food':9.99, 'Candy Club':39.99, 'NatureBox':5, 'SnackNation':9.99, 'ZenPop':24.50, 'Yummy Bazaar World Sampler':9.95, 'FitSnack':19.90, 'Bokksu':39, 'MunchPak':9.95, 'Keto Krate':34.95, 'Universal Yums':13, 'Vegan Cuts Snack Box':22.95, 'TokyoTreat':22.50, 'Try the World Snack':19}\n",
        "electronics_data['Snack_Sub_Name'] = np.random.choice(list(Price), len(electronics_data))\n",
        "electronics_data['Price'] = electronics_data['Snack_Sub_Name'].map(Price)\n",
        "electronics_data.head(190)"
      ],
      "execution_count": 9,
      "outputs": [
        {
          "output_type": "execute_result",
          "data": {
            "text/html": [
              "<div>\n",
              "<style scoped>\n",
              "    .dataframe tbody tr th:only-of-type {\n",
              "        vertical-align: middle;\n",
              "    }\n",
              "\n",
              "    .dataframe tbody tr th {\n",
              "        vertical-align: top;\n",
              "    }\n",
              "\n",
              "    .dataframe thead th {\n",
              "        text-align: right;\n",
              "    }\n",
              "</style>\n",
              "<table border=\"1\" class=\"dataframe\">\n",
              "  <thead>\n",
              "    <tr style=\"text-align: right;\">\n",
              "      <th></th>\n",
              "      <th>UserId</th>\n",
              "      <th>ProductId</th>\n",
              "      <th>Rating</th>\n",
              "      <th>Timestamp</th>\n",
              "      <th>Snack_Sub_Name</th>\n",
              "      <th>Price</th>\n",
              "    </tr>\n",
              "  </thead>\n",
              "  <tbody>\n",
              "    <tr>\n",
              "      <th>0</th>\n",
              "      <td>AKM1MP6P0OYPR</td>\n",
              "      <td>0132793040</td>\n",
              "      <td>5.0</td>\n",
              "      <td>1365811200</td>\n",
              "      <td>Universal Yums</td>\n",
              "      <td>13.00</td>\n",
              "    </tr>\n",
              "    <tr>\n",
              "      <th>1</th>\n",
              "      <td>A2CX7LUOHB2NDG</td>\n",
              "      <td>0321732944</td>\n",
              "      <td>5.0</td>\n",
              "      <td>1341100800</td>\n",
              "      <td>Love With Food</td>\n",
              "      <td>9.99</td>\n",
              "    </tr>\n",
              "    <tr>\n",
              "      <th>2</th>\n",
              "      <td>A2NWSAGRHCP8N5</td>\n",
              "      <td>0439886341</td>\n",
              "      <td>1.0</td>\n",
              "      <td>1367193600</td>\n",
              "      <td>Love With Food</td>\n",
              "      <td>9.99</td>\n",
              "    </tr>\n",
              "    <tr>\n",
              "      <th>3</th>\n",
              "      <td>A2WNBOD3WNDNKT</td>\n",
              "      <td>0439886341</td>\n",
              "      <td>3.0</td>\n",
              "      <td>1374451200</td>\n",
              "      <td>FitSnack</td>\n",
              "      <td>19.90</td>\n",
              "    </tr>\n",
              "    <tr>\n",
              "      <th>4</th>\n",
              "      <td>A1GI0U4ZRJA8WN</td>\n",
              "      <td>0439886341</td>\n",
              "      <td>1.0</td>\n",
              "      <td>1334707200</td>\n",
              "      <td>Try the World Snack</td>\n",
              "      <td>19.00</td>\n",
              "    </tr>\n",
              "    <tr>\n",
              "      <th>...</th>\n",
              "      <td>...</td>\n",
              "      <td>...</td>\n",
              "      <td>...</td>\n",
              "      <td>...</td>\n",
              "      <td>...</td>\n",
              "      <td>...</td>\n",
              "    </tr>\n",
              "    <tr>\n",
              "      <th>185</th>\n",
              "      <td>A36MQBNADRH8YY</td>\n",
              "      <td>0972683275</td>\n",
              "      <td>5.0</td>\n",
              "      <td>1405641600</td>\n",
              "      <td>Candy Club</td>\n",
              "      <td>39.99</td>\n",
              "    </tr>\n",
              "    <tr>\n",
              "      <th>186</th>\n",
              "      <td>A3SRXMPLAEZ6DP</td>\n",
              "      <td>0972683275</td>\n",
              "      <td>4.0</td>\n",
              "      <td>1405987200</td>\n",
              "      <td>Snackfair</td>\n",
              "      <td>15.50</td>\n",
              "    </tr>\n",
              "    <tr>\n",
              "      <th>187</th>\n",
              "      <td>A20XXTXWF2TCPY</td>\n",
              "      <td>0972683275</td>\n",
              "      <td>5.0</td>\n",
              "      <td>1405123200</td>\n",
              "      <td>Candy Club</td>\n",
              "      <td>39.99</td>\n",
              "    </tr>\n",
              "    <tr>\n",
              "      <th>188</th>\n",
              "      <td>AOZZ0CTG5RMW1</td>\n",
              "      <td>0972683275</td>\n",
              "      <td>4.0</td>\n",
              "      <td>1302912000</td>\n",
              "      <td>Yummy Bazaar World Sampler</td>\n",
              "      <td>9.95</td>\n",
              "    </tr>\n",
              "    <tr>\n",
              "      <th>189</th>\n",
              "      <td>A2IDCSC6NVONIZ</td>\n",
              "      <td>0972683275</td>\n",
              "      <td>5.0</td>\n",
              "      <td>1367280000</td>\n",
              "      <td>Snakku</td>\n",
              "      <td>38.95</td>\n",
              "    </tr>\n",
              "  </tbody>\n",
              "</table>\n",
              "<p>190 rows × 6 columns</p>\n",
              "</div>"
            ],
            "text/plain": [
              "             UserId   ProductId  ...              Snack_Sub_Name  Price\n",
              "0     AKM1MP6P0OYPR  0132793040  ...              Universal Yums  13.00\n",
              "1    A2CX7LUOHB2NDG  0321732944  ...              Love With Food   9.99\n",
              "2    A2NWSAGRHCP8N5  0439886341  ...              Love With Food   9.99\n",
              "3    A2WNBOD3WNDNKT  0439886341  ...                    FitSnack  19.90\n",
              "4    A1GI0U4ZRJA8WN  0439886341  ...         Try the World Snack  19.00\n",
              "..              ...         ...  ...                         ...    ...\n",
              "185  A36MQBNADRH8YY  0972683275  ...                  Candy Club  39.99\n",
              "186  A3SRXMPLAEZ6DP  0972683275  ...                   Snackfair  15.50\n",
              "187  A20XXTXWF2TCPY  0972683275  ...                  Candy Club  39.99\n",
              "188   AOZZ0CTG5RMW1  0972683275  ...  Yummy Bazaar World Sampler   9.95\n",
              "189  A2IDCSC6NVONIZ  0972683275  ...                      Snakku  38.95\n",
              "\n",
              "[190 rows x 6 columns]"
            ]
          },
          "metadata": {
            "tags": []
          },
          "execution_count": 9
        }
      ]
    },
    {
      "cell_type": "code",
      "metadata": {
        "colab_type": "code",
        "id": "iYF8hP3nvb-D",
        "outputId": "bf6dda23-4ccd-4f9b-807d-36c1e6b8c018",
        "colab": {
          "base_uri": "https://localhost:8080/",
          "height": 419
        }
      },
      "source": [
        "# Adding Product_ID for each snack subcription plan\n",
        "\n",
        "electronics_data['Product_ID'] = electronics_data.Snack_Sub_Name.map({'Snackfair': 13279300 , 'Snakku':321732944, 'Love With Food':439886341, 'Candy Club':511189877, 'NatureBox':528881469, 'SnackNation':558835155, 'ZenPop':594012015, 'Yummy Bazaar World Sampler':594451647, 'FitSnack':594477670, 'Bokksu':594481813, 'MunchPak':594481902, 'Keto Krate':594482127, 'Universal Yums':594511488, 'Vegan Cuts Snack Box':899336795, 'TokyoTreat':970407998, 'Try the World Snack':972683275})\n",
        "electronics_data"
      ],
      "execution_count": 10,
      "outputs": [
        {
          "output_type": "execute_result",
          "data": {
            "text/html": [
              "<div>\n",
              "<style scoped>\n",
              "    .dataframe tbody tr th:only-of-type {\n",
              "        vertical-align: middle;\n",
              "    }\n",
              "\n",
              "    .dataframe tbody tr th {\n",
              "        vertical-align: top;\n",
              "    }\n",
              "\n",
              "    .dataframe thead th {\n",
              "        text-align: right;\n",
              "    }\n",
              "</style>\n",
              "<table border=\"1\" class=\"dataframe\">\n",
              "  <thead>\n",
              "    <tr style=\"text-align: right;\">\n",
              "      <th></th>\n",
              "      <th>UserId</th>\n",
              "      <th>ProductId</th>\n",
              "      <th>Rating</th>\n",
              "      <th>Timestamp</th>\n",
              "      <th>Snack_Sub_Name</th>\n",
              "      <th>Price</th>\n",
              "      <th>Product_ID</th>\n",
              "    </tr>\n",
              "  </thead>\n",
              "  <tbody>\n",
              "    <tr>\n",
              "      <th>0</th>\n",
              "      <td>AKM1MP6P0OYPR</td>\n",
              "      <td>0132793040</td>\n",
              "      <td>5.0</td>\n",
              "      <td>1365811200</td>\n",
              "      <td>Universal Yums</td>\n",
              "      <td>13.00</td>\n",
              "      <td>594511488</td>\n",
              "    </tr>\n",
              "    <tr>\n",
              "      <th>1</th>\n",
              "      <td>A2CX7LUOHB2NDG</td>\n",
              "      <td>0321732944</td>\n",
              "      <td>5.0</td>\n",
              "      <td>1341100800</td>\n",
              "      <td>Love With Food</td>\n",
              "      <td>9.99</td>\n",
              "      <td>439886341</td>\n",
              "    </tr>\n",
              "    <tr>\n",
              "      <th>2</th>\n",
              "      <td>A2NWSAGRHCP8N5</td>\n",
              "      <td>0439886341</td>\n",
              "      <td>1.0</td>\n",
              "      <td>1367193600</td>\n",
              "      <td>Love With Food</td>\n",
              "      <td>9.99</td>\n",
              "      <td>439886341</td>\n",
              "    </tr>\n",
              "    <tr>\n",
              "      <th>3</th>\n",
              "      <td>A2WNBOD3WNDNKT</td>\n",
              "      <td>0439886341</td>\n",
              "      <td>3.0</td>\n",
              "      <td>1374451200</td>\n",
              "      <td>FitSnack</td>\n",
              "      <td>19.90</td>\n",
              "      <td>594477670</td>\n",
              "    </tr>\n",
              "    <tr>\n",
              "      <th>4</th>\n",
              "      <td>A1GI0U4ZRJA8WN</td>\n",
              "      <td>0439886341</td>\n",
              "      <td>1.0</td>\n",
              "      <td>1334707200</td>\n",
              "      <td>Try the World Snack</td>\n",
              "      <td>19.00</td>\n",
              "      <td>972683275</td>\n",
              "    </tr>\n",
              "    <tr>\n",
              "      <th>...</th>\n",
              "      <td>...</td>\n",
              "      <td>...</td>\n",
              "      <td>...</td>\n",
              "      <td>...</td>\n",
              "      <td>...</td>\n",
              "      <td>...</td>\n",
              "      <td>...</td>\n",
              "    </tr>\n",
              "    <tr>\n",
              "      <th>10480</th>\n",
              "      <td>A3KIX0N7AJOX68</td>\n",
              "      <td>B00000J1SC</td>\n",
              "      <td>2.0</td>\n",
              "      <td>1378684800</td>\n",
              "      <td>Universal Yums</td>\n",
              "      <td>13.00</td>\n",
              "      <td>594511488</td>\n",
              "    </tr>\n",
              "    <tr>\n",
              "      <th>10481</th>\n",
              "      <td>A3JPDP4JRCART7</td>\n",
              "      <td>B00000J1SC</td>\n",
              "      <td>5.0</td>\n",
              "      <td>1395014400</td>\n",
              "      <td>Try the World Snack</td>\n",
              "      <td>19.00</td>\n",
              "      <td>972683275</td>\n",
              "    </tr>\n",
              "    <tr>\n",
              "      <th>10482</th>\n",
              "      <td>A1GZTVDFGF71XM</td>\n",
              "      <td>B00000J1SC</td>\n",
              "      <td>3.0</td>\n",
              "      <td>1374105600</td>\n",
              "      <td>Keto Krate</td>\n",
              "      <td>34.95</td>\n",
              "      <td>594482127</td>\n",
              "    </tr>\n",
              "    <tr>\n",
              "      <th>10483</th>\n",
              "      <td>A3LM4LWX9M14BI</td>\n",
              "      <td>B00000J1SC</td>\n",
              "      <td>5.0</td>\n",
              "      <td>1396224000</td>\n",
              "      <td>Universal Yums</td>\n",
              "      <td>13.00</td>\n",
              "      <td>594511488</td>\n",
              "    </tr>\n",
              "    <tr>\n",
              "      <th>10484</th>\n",
              "      <td>A21EVAUE3BOV1N</td>\n",
              "      <td>B00000J1SC</td>\n",
              "      <td>5.0</td>\n",
              "      <td>1400544000</td>\n",
              "      <td>NatureBox</td>\n",
              "      <td>5.00</td>\n",
              "      <td>528881469</td>\n",
              "    </tr>\n",
              "  </tbody>\n",
              "</table>\n",
              "<p>10485 rows × 7 columns</p>\n",
              "</div>"
            ],
            "text/plain": [
              "               UserId   ProductId  ...  Price  Product_ID\n",
              "0       AKM1MP6P0OYPR  0132793040  ...  13.00   594511488\n",
              "1      A2CX7LUOHB2NDG  0321732944  ...   9.99   439886341\n",
              "2      A2NWSAGRHCP8N5  0439886341  ...   9.99   439886341\n",
              "3      A2WNBOD3WNDNKT  0439886341  ...  19.90   594477670\n",
              "4      A1GI0U4ZRJA8WN  0439886341  ...  19.00   972683275\n",
              "...               ...         ...  ...    ...         ...\n",
              "10480  A3KIX0N7AJOX68  B00000J1SC  ...  13.00   594511488\n",
              "10481  A3JPDP4JRCART7  B00000J1SC  ...  19.00   972683275\n",
              "10482  A1GZTVDFGF71XM  B00000J1SC  ...  34.95   594482127\n",
              "10483  A3LM4LWX9M14BI  B00000J1SC  ...  13.00   594511488\n",
              "10484  A21EVAUE3BOV1N  B00000J1SC  ...   5.00   528881469\n",
              "\n",
              "[10485 rows x 7 columns]"
            ]
          },
          "metadata": {
            "tags": []
          },
          "execution_count": 10
        }
      ]
    },
    {
      "cell_type": "code",
      "metadata": {
        "colab_type": "code",
        "id": "KAUPR8FQAPQO",
        "outputId": "926eee00-e51b-4a43-93d7-df80ed3d3bc5",
        "colab": {
          "base_uri": "https://localhost:8080/",
          "height": 419
        }
      },
      "source": [
        "electronics_data"
      ],
      "execution_count": 11,
      "outputs": [
        {
          "output_type": "execute_result",
          "data": {
            "text/html": [
              "<div>\n",
              "<style scoped>\n",
              "    .dataframe tbody tr th:only-of-type {\n",
              "        vertical-align: middle;\n",
              "    }\n",
              "\n",
              "    .dataframe tbody tr th {\n",
              "        vertical-align: top;\n",
              "    }\n",
              "\n",
              "    .dataframe thead th {\n",
              "        text-align: right;\n",
              "    }\n",
              "</style>\n",
              "<table border=\"1\" class=\"dataframe\">\n",
              "  <thead>\n",
              "    <tr style=\"text-align: right;\">\n",
              "      <th></th>\n",
              "      <th>UserId</th>\n",
              "      <th>ProductId</th>\n",
              "      <th>Rating</th>\n",
              "      <th>Timestamp</th>\n",
              "      <th>Snack_Sub_Name</th>\n",
              "      <th>Price</th>\n",
              "      <th>Product_ID</th>\n",
              "    </tr>\n",
              "  </thead>\n",
              "  <tbody>\n",
              "    <tr>\n",
              "      <th>0</th>\n",
              "      <td>AKM1MP6P0OYPR</td>\n",
              "      <td>0132793040</td>\n",
              "      <td>5.0</td>\n",
              "      <td>1365811200</td>\n",
              "      <td>Universal Yums</td>\n",
              "      <td>13.00</td>\n",
              "      <td>594511488</td>\n",
              "    </tr>\n",
              "    <tr>\n",
              "      <th>1</th>\n",
              "      <td>A2CX7LUOHB2NDG</td>\n",
              "      <td>0321732944</td>\n",
              "      <td>5.0</td>\n",
              "      <td>1341100800</td>\n",
              "      <td>Love With Food</td>\n",
              "      <td>9.99</td>\n",
              "      <td>439886341</td>\n",
              "    </tr>\n",
              "    <tr>\n",
              "      <th>2</th>\n",
              "      <td>A2NWSAGRHCP8N5</td>\n",
              "      <td>0439886341</td>\n",
              "      <td>1.0</td>\n",
              "      <td>1367193600</td>\n",
              "      <td>Love With Food</td>\n",
              "      <td>9.99</td>\n",
              "      <td>439886341</td>\n",
              "    </tr>\n",
              "    <tr>\n",
              "      <th>3</th>\n",
              "      <td>A2WNBOD3WNDNKT</td>\n",
              "      <td>0439886341</td>\n",
              "      <td>3.0</td>\n",
              "      <td>1374451200</td>\n",
              "      <td>FitSnack</td>\n",
              "      <td>19.90</td>\n",
              "      <td>594477670</td>\n",
              "    </tr>\n",
              "    <tr>\n",
              "      <th>4</th>\n",
              "      <td>A1GI0U4ZRJA8WN</td>\n",
              "      <td>0439886341</td>\n",
              "      <td>1.0</td>\n",
              "      <td>1334707200</td>\n",
              "      <td>Try the World Snack</td>\n",
              "      <td>19.00</td>\n",
              "      <td>972683275</td>\n",
              "    </tr>\n",
              "    <tr>\n",
              "      <th>...</th>\n",
              "      <td>...</td>\n",
              "      <td>...</td>\n",
              "      <td>...</td>\n",
              "      <td>...</td>\n",
              "      <td>...</td>\n",
              "      <td>...</td>\n",
              "      <td>...</td>\n",
              "    </tr>\n",
              "    <tr>\n",
              "      <th>10480</th>\n",
              "      <td>A3KIX0N7AJOX68</td>\n",
              "      <td>B00000J1SC</td>\n",
              "      <td>2.0</td>\n",
              "      <td>1378684800</td>\n",
              "      <td>Universal Yums</td>\n",
              "      <td>13.00</td>\n",
              "      <td>594511488</td>\n",
              "    </tr>\n",
              "    <tr>\n",
              "      <th>10481</th>\n",
              "      <td>A3JPDP4JRCART7</td>\n",
              "      <td>B00000J1SC</td>\n",
              "      <td>5.0</td>\n",
              "      <td>1395014400</td>\n",
              "      <td>Try the World Snack</td>\n",
              "      <td>19.00</td>\n",
              "      <td>972683275</td>\n",
              "    </tr>\n",
              "    <tr>\n",
              "      <th>10482</th>\n",
              "      <td>A1GZTVDFGF71XM</td>\n",
              "      <td>B00000J1SC</td>\n",
              "      <td>3.0</td>\n",
              "      <td>1374105600</td>\n",
              "      <td>Keto Krate</td>\n",
              "      <td>34.95</td>\n",
              "      <td>594482127</td>\n",
              "    </tr>\n",
              "    <tr>\n",
              "      <th>10483</th>\n",
              "      <td>A3LM4LWX9M14BI</td>\n",
              "      <td>B00000J1SC</td>\n",
              "      <td>5.0</td>\n",
              "      <td>1396224000</td>\n",
              "      <td>Universal Yums</td>\n",
              "      <td>13.00</td>\n",
              "      <td>594511488</td>\n",
              "    </tr>\n",
              "    <tr>\n",
              "      <th>10484</th>\n",
              "      <td>A21EVAUE3BOV1N</td>\n",
              "      <td>B00000J1SC</td>\n",
              "      <td>5.0</td>\n",
              "      <td>1400544000</td>\n",
              "      <td>NatureBox</td>\n",
              "      <td>5.00</td>\n",
              "      <td>528881469</td>\n",
              "    </tr>\n",
              "  </tbody>\n",
              "</table>\n",
              "<p>10485 rows × 7 columns</p>\n",
              "</div>"
            ],
            "text/plain": [
              "               UserId   ProductId  ...  Price  Product_ID\n",
              "0       AKM1MP6P0OYPR  0132793040  ...  13.00   594511488\n",
              "1      A2CX7LUOHB2NDG  0321732944  ...   9.99   439886341\n",
              "2      A2NWSAGRHCP8N5  0439886341  ...   9.99   439886341\n",
              "3      A2WNBOD3WNDNKT  0439886341  ...  19.90   594477670\n",
              "4      A1GI0U4ZRJA8WN  0439886341  ...  19.00   972683275\n",
              "...               ...         ...  ...    ...         ...\n",
              "10480  A3KIX0N7AJOX68  B00000J1SC  ...  13.00   594511488\n",
              "10481  A3JPDP4JRCART7  B00000J1SC  ...  19.00   972683275\n",
              "10482  A1GZTVDFGF71XM  B00000J1SC  ...  34.95   594482127\n",
              "10483  A3LM4LWX9M14BI  B00000J1SC  ...  13.00   594511488\n",
              "10484  A21EVAUE3BOV1N  B00000J1SC  ...   5.00   528881469\n",
              "\n",
              "[10485 rows x 7 columns]"
            ]
          },
          "metadata": {
            "tags": []
          },
          "execution_count": 11
        }
      ]
    },
    {
      "cell_type": "code",
      "metadata": {
        "colab_type": "code",
        "id": "ZKnurn68AcfN",
        "colab": {}
      },
      "source": [
        "electronics_data.to_csv('snack_data.csv')"
      ],
      "execution_count": 0,
      "outputs": []
    },
    {
      "cell_type": "code",
      "metadata": {
        "colab_type": "code",
        "id": "RG37kc6u0mmc",
        "outputId": "2142605d-4530-4fa7-d53f-50813ec54786",
        "colab": {
          "base_uri": "https://localhost:8080/",
          "height": 170
        }
      },
      "source": [
        "electronics_data.describe()['Rating'].T"
      ],
      "execution_count": 12,
      "outputs": [
        {
          "output_type": "execute_result",
          "data": {
            "text/plain": [
              "count    10485.000000\n",
              "mean         3.912542\n",
              "std          1.469024\n",
              "min          1.000000\n",
              "25%          3.000000\n",
              "50%          5.000000\n",
              "75%          5.000000\n",
              "max          5.000000\n",
              "Name: Rating, dtype: float64"
            ]
          },
          "metadata": {
            "tags": []
          },
          "execution_count": 12
        }
      ]
    },
    {
      "cell_type": "code",
      "metadata": {
        "colab_type": "code",
        "id": "E9FkJCSS0mi5",
        "outputId": "b2929161-99bd-4cc3-9ac9-9d59c6489e82",
        "colab": {
          "base_uri": "https://localhost:8080/",
          "height": 51
        }
      },
      "source": [
        "print('Minimum rating is: %d' %(electronics_data.Rating.min()))\n",
        "print('Maximum rating is: %d' %(electronics_data.Rating.max()))"
      ],
      "execution_count": 13,
      "outputs": [
        {
          "output_type": "stream",
          "text": [
            "Minimum rating is: 1\n",
            "Maximum rating is: 5\n"
          ],
          "name": "stdout"
        }
      ]
    },
    {
      "cell_type": "code",
      "metadata": {
        "colab_type": "code",
        "id": "tZ_iGQAd0miA",
        "outputId": "45cf3a59-23ce-4d95-d980-e16aefde139d",
        "colab": {
          "base_uri": "https://localhost:8080/",
          "height": 170
        }
      },
      "source": [
        "#Check for missing values\n",
        "print('Number of missing values across columns: \\n',electronics_data.isnull().sum())"
      ],
      "execution_count": 14,
      "outputs": [
        {
          "output_type": "stream",
          "text": [
            "Number of missing values across columns: \n",
            " UserId            0\n",
            "ProductId         0\n",
            "Rating            0\n",
            "Timestamp         0\n",
            "Snack_Sub_Name    0\n",
            "Price             0\n",
            "Product_ID        0\n",
            "dtype: int64\n"
          ],
          "name": "stdout"
        }
      ]
    },
    {
      "cell_type": "code",
      "metadata": {
        "colab_type": "code",
        "id": "BjNX05ur0meZ",
        "outputId": "65cb8625-1ca0-4ec1-8dd2-14a820f5f1c2",
        "colab": {
          "base_uri": "https://localhost:8080/",
          "height": 386
        }
      },
      "source": [
        "# Check the distribution of the rating\n",
        "with sns.axes_style('white'):\n",
        "    g = sns.factorplot(\"Rating\", data=electronics_data, aspect=2.0,kind='count')\n",
        "    g.set_ylabels(\"Total number of ratings\")"
      ],
      "execution_count": 15,
      "outputs": [
        {
          "output_type": "execute_result",
          "data": {
            "text/plain": [
              "<seaborn.axisgrid.FacetGrid at 0x7f6257ba7c50>"
            ]
          },
          "metadata": {
            "tags": []
          },
          "execution_count": 15
        },
        {
          "output_type": "display_data",
          "data": {
            "image/png": "[encoded data removed]",
            "text/plain": [
              "<Figure size 720x360 with 1 Axes>"
            ]
          },
          "metadata": {
            "tags": []
          }
        }
      ]
    },
    {
      "cell_type": "code",
      "metadata": {
        "colab_type": "code",
        "id": "OJXNgbtO0mdZ",
        "outputId": "2cdf9b89-38a4-435e-8b68-778f7c95f711",
        "colab": {
          "base_uri": "https://localhost:8080/",
          "height": 119
        }
      },
      "source": [
        "print(\"Total data \")\n",
        "print(\"-\"*50)\n",
        "print(\"\\nTotal no of ratings :\",electronics_data.shape[0])\n",
        "print(\"Total No of Users   :\", len(np.unique(electronics_data.UserId)))\n",
        "print(\"Total No of products  :\", len(np.unique(electronics_data.ProductId)))"
      ],
      "execution_count": 16,
      "outputs": [
        {
          "output_type": "stream",
          "text": [
            "Total data \n",
            "--------------------------------------------------\n",
            "\n",
            "Total no of ratings : 10485\n",
            "Total No of Users   : 10296\n",
            "Total No of products  : 1340\n"
          ],
          "name": "stdout"
        }
      ]
    },
    {
      "cell_type": "code",
      "metadata": {
        "colab_type": "code",
        "id": "gLwEkpZl1021",
        "outputId": "ac6c9ad9-b925-4087-865c-a65b31009f6c",
        "colab": {
          "base_uri": "https://localhost:8080/",
          "height": 136
        }
      },
      "source": [
        "#Analysis of rating given by the user \n",
        "\n",
        "no_of_rated_products_per_user = electronics_data.groupby(by='UserId')['Rating'].count().sort_values(ascending=False)\n",
        "\n",
        "no_of_rated_products_per_user.head()"
      ],
      "execution_count": 17,
      "outputs": [
        {
          "output_type": "execute_result",
          "data": {
            "text/plain": [
              "UserId\n",
              "A3LDPF5FMB782Z    5\n",
              "AT8TIN5JKHO2V     5\n",
              "A2HDTOF8222KN3    4\n",
              "A1TBH7Z4RK7PRK    4\n",
              "A2YT1SH4B1PPST    3\n",
              "Name: Rating, dtype: int64"
            ]
          },
          "metadata": {
            "tags": []
          },
          "execution_count": 17
        }
      ]
    },
    {
      "cell_type": "code",
      "metadata": {
        "colab_type": "code",
        "id": "GkGvshk31004",
        "outputId": "e3dbe88e-cb08-4ee9-d3a5-51ac475b16d6",
        "colab": {
          "base_uri": "https://localhost:8080/",
          "height": 170
        }
      },
      "source": [
        "no_of_rated_products_per_user.describe()"
      ],
      "execution_count": 18,
      "outputs": [
        {
          "output_type": "execute_result",
          "data": {
            "text/plain": [
              "count    10296.000000\n",
              "mean         1.018357\n",
              "std          0.153803\n",
              "min          1.000000\n",
              "25%          1.000000\n",
              "50%          1.000000\n",
              "75%          1.000000\n",
              "max          5.000000\n",
              "Name: Rating, dtype: float64"
            ]
          },
          "metadata": {
            "tags": []
          },
          "execution_count": 18
        }
      ]
    },
    {
      "cell_type": "code",
      "metadata": {
        "colab_type": "code",
        "id": "fuLEZkjE10vs",
        "outputId": "5972572a-e0fa-445c-9b51-ba9889b78a4f",
        "colab": {
          "base_uri": "https://localhost:8080/",
          "height": 204
        }
      },
      "source": [
        "electronics_data.head()"
      ],
      "execution_count": 19,
      "outputs": [
        {
          "output_type": "execute_result",
          "data": {
            "text/html": [
              "<div>\n",
              "<style scoped>\n",
              "    .dataframe tbody tr th:only-of-type {\n",
              "        vertical-align: middle;\n",
              "    }\n",
              "\n",
              "    .dataframe tbody tr th {\n",
              "        vertical-align: top;\n",
              "    }\n",
              "\n",
              "    .dataframe thead th {\n",
              "        text-align: right;\n",
              "    }\n",
              "</style>\n",
              "<table border=\"1\" class=\"dataframe\">\n",
              "  <thead>\n",
              "    <tr style=\"text-align: right;\">\n",
              "      <th></th>\n",
              "      <th>UserId</th>\n",
              "      <th>ProductId</th>\n",
              "      <th>Rating</th>\n",
              "      <th>Timestamp</th>\n",
              "      <th>Snack_Sub_Name</th>\n",
              "      <th>Price</th>\n",
              "      <th>Product_ID</th>\n",
              "    </tr>\n",
              "  </thead>\n",
              "  <tbody>\n",
              "    <tr>\n",
              "      <th>0</th>\n",
              "      <td>AKM1MP6P0OYPR</td>\n",
              "      <td>0132793040</td>\n",
              "      <td>5.0</td>\n",
              "      <td>1365811200</td>\n",
              "      <td>Universal Yums</td>\n",
              "      <td>13.00</td>\n",
              "      <td>594511488</td>\n",
              "    </tr>\n",
              "    <tr>\n",
              "      <th>1</th>\n",
              "      <td>A2CX7LUOHB2NDG</td>\n",
              "      <td>0321732944</td>\n",
              "      <td>5.0</td>\n",
              "      <td>1341100800</td>\n",
              "      <td>Love With Food</td>\n",
              "      <td>9.99</td>\n",
              "      <td>439886341</td>\n",
              "    </tr>\n",
              "    <tr>\n",
              "      <th>2</th>\n",
              "      <td>A2NWSAGRHCP8N5</td>\n",
              "      <td>0439886341</td>\n",
              "      <td>1.0</td>\n",
              "      <td>1367193600</td>\n",
              "      <td>Love With Food</td>\n",
              "      <td>9.99</td>\n",
              "      <td>439886341</td>\n",
              "    </tr>\n",
              "    <tr>\n",
              "      <th>3</th>\n",
              "      <td>A2WNBOD3WNDNKT</td>\n",
              "      <td>0439886341</td>\n",
              "      <td>3.0</td>\n",
              "      <td>1374451200</td>\n",
              "      <td>FitSnack</td>\n",
              "      <td>19.90</td>\n",
              "      <td>594477670</td>\n",
              "    </tr>\n",
              "    <tr>\n",
              "      <th>4</th>\n",
              "      <td>A1GI0U4ZRJA8WN</td>\n",
              "      <td>0439886341</td>\n",
              "      <td>1.0</td>\n",
              "      <td>1334707200</td>\n",
              "      <td>Try the World Snack</td>\n",
              "      <td>19.00</td>\n",
              "      <td>972683275</td>\n",
              "    </tr>\n",
              "  </tbody>\n",
              "</table>\n",
              "</div>"
            ],
            "text/plain": [
              "           UserId   ProductId  Rating  ...       Snack_Sub_Name  Price  Product_ID\n",
              "0   AKM1MP6P0OYPR  0132793040     5.0  ...       Universal Yums  13.00   594511488\n",
              "1  A2CX7LUOHB2NDG  0321732944     5.0  ...       Love With Food   9.99   439886341\n",
              "2  A2NWSAGRHCP8N5  0439886341     1.0  ...       Love With Food   9.99   439886341\n",
              "3  A2WNBOD3WNDNKT  0439886341     3.0  ...             FitSnack  19.90   594477670\n",
              "4  A1GI0U4ZRJA8WN  0439886341     1.0  ...  Try the World Snack  19.00   972683275\n",
              "\n",
              "[5 rows x 7 columns]"
            ]
          },
          "metadata": {
            "tags": []
          },
          "execution_count": 19
        }
      ]
    },
    {
      "cell_type": "code",
      "metadata": {
        "colab_type": "code",
        "id": "Wg8CEkAj10ss",
        "colab": {}
      },
      "source": [
        "electronics_data = electronics_data.rename(columns={'Product_ID': 'Snack Subscription ID'}, index={'ONE': 'one'})\n",
        "\n",
        "\n"
      ],
      "execution_count": 0,
      "outputs": []
    },
    {
      "cell_type": "code",
      "metadata": {
        "colab_type": "code",
        "id": "xKVLuoMf10qt",
        "outputId": "84495e89-df04-4785-ee04-00f6e74a40ba",
        "colab": {
          "base_uri": "https://localhost:8080/",
          "height": 204
        }
      },
      "source": [
        "electronics_data.head()"
      ],
      "execution_count": 21,
      "outputs": [
        {
          "output_type": "execute_result",
          "data": {
            "text/html": [
              "<div>\n",
              "<style scoped>\n",
              "    .dataframe tbody tr th:only-of-type {\n",
              "        vertical-align: middle;\n",
              "    }\n",
              "\n",
              "    .dataframe tbody tr th {\n",
              "        vertical-align: top;\n",
              "    }\n",
              "\n",
              "    .dataframe thead th {\n",
              "        text-align: right;\n",
              "    }\n",
              "</style>\n",
              "<table border=\"1\" class=\"dataframe\">\n",
              "  <thead>\n",
              "    <tr style=\"text-align: right;\">\n",
              "      <th></th>\n",
              "      <th>UserId</th>\n",
              "      <th>ProductId</th>\n",
              "      <th>Rating</th>\n",
              "      <th>Timestamp</th>\n",
              "      <th>Snack_Sub_Name</th>\n",
              "      <th>Price</th>\n",
              "      <th>Snack Subscription ID</th>\n",
              "    </tr>\n",
              "  </thead>\n",
              "  <tbody>\n",
              "    <tr>\n",
              "      <th>0</th>\n",
              "      <td>AKM1MP6P0OYPR</td>\n",
              "      <td>0132793040</td>\n",
              "      <td>5.0</td>\n",
              "      <td>1365811200</td>\n",
              "      <td>Universal Yums</td>\n",
              "      <td>13.00</td>\n",
              "      <td>594511488</td>\n",
              "    </tr>\n",
              "    <tr>\n",
              "      <th>1</th>\n",
              "      <td>A2CX7LUOHB2NDG</td>\n",
              "      <td>0321732944</td>\n",
              "      <td>5.0</td>\n",
              "      <td>1341100800</td>\n",
              "      <td>Love With Food</td>\n",
              "      <td>9.99</td>\n",
              "      <td>439886341</td>\n",
              "    </tr>\n",
              "    <tr>\n",
              "      <th>2</th>\n",
              "      <td>A2NWSAGRHCP8N5</td>\n",
              "      <td>0439886341</td>\n",
              "      <td>1.0</td>\n",
              "      <td>1367193600</td>\n",
              "      <td>Love With Food</td>\n",
              "      <td>9.99</td>\n",
              "      <td>439886341</td>\n",
              "    </tr>\n",
              "    <tr>\n",
              "      <th>3</th>\n",
              "      <td>A2WNBOD3WNDNKT</td>\n",
              "      <td>0439886341</td>\n",
              "      <td>3.0</td>\n",
              "      <td>1374451200</td>\n",
              "      <td>FitSnack</td>\n",
              "      <td>19.90</td>\n",
              "      <td>594477670</td>\n",
              "    </tr>\n",
              "    <tr>\n",
              "      <th>4</th>\n",
              "      <td>A1GI0U4ZRJA8WN</td>\n",
              "      <td>0439886341</td>\n",
              "      <td>1.0</td>\n",
              "      <td>1334707200</td>\n",
              "      <td>Try the World Snack</td>\n",
              "      <td>19.00</td>\n",
              "      <td>972683275</td>\n",
              "    </tr>\n",
              "  </tbody>\n",
              "</table>\n",
              "</div>"
            ],
            "text/plain": [
              "           UserId   ProductId  ...  Price  Snack Subscription ID\n",
              "0   AKM1MP6P0OYPR  0132793040  ...  13.00              594511488\n",
              "1  A2CX7LUOHB2NDG  0321732944  ...   9.99              439886341\n",
              "2  A2NWSAGRHCP8N5  0439886341  ...   9.99              439886341\n",
              "3  A2WNBOD3WNDNKT  0439886341  ...  19.90              594477670\n",
              "4  A1GI0U4ZRJA8WN  0439886341  ...  19.00              972683275\n",
              "\n",
              "[5 rows x 7 columns]"
            ]
          },
          "metadata": {
            "tags": []
          },
          "execution_count": 21
        }
      ]
    },
    {
      "cell_type": "code",
      "metadata": {
        "colab_type": "code",
        "id": "4U4K8nf010oL",
        "outputId": "f26267b6-be39-46de-be48-988a5373d002",
        "colab": {
          "base_uri": "https://localhost:8080/",
          "height": 102
        }
      },
      "source": [
        "electronics_data.Snack_Sub_Name.unique()"
      ],
      "execution_count": 22,
      "outputs": [
        {
          "output_type": "execute_result",
          "data": {
            "text/plain": [
              "array(['Universal Yums', 'Love With Food', 'FitSnack',\n",
              "       'Try the World Snack', 'ZenPop', 'Snackfair', 'TokyoTreat',\n",
              "       'SnackNation', 'Snakku', 'Yummy Bazaar World Sampler', 'NatureBox',\n",
              "       'MunchPak', 'Keto Krate', 'Bokksu', 'Candy Club',\n",
              "       'Vegan Cuts Snack Box'], dtype=object)"
            ]
          },
          "metadata": {
            "tags": []
          },
          "execution_count": 22
        }
      ]
    },
    {
      "cell_type": "code",
      "metadata": {
        "colab_type": "code",
        "id": "o5nWU8I00mas",
        "outputId": "538ce8ce-620e-45a9-a172-e7f424710bdb",
        "colab": {
          "base_uri": "https://localhost:8080/",
          "height": 419
        }
      },
      "source": [
        "Calories = {'Snackfair': 387, 'Snakku':287, 'Love With Food':429, 'Candy Club':529, 'NatureBox':229, 'SnackNation':240, 'ZenPop':340, 'Yummy Bazaar World Sampler':440, 'FitSnack':240, 'Bokksu':340, 'MunchPak':540, 'Keto Krate':440, 'Universal Yums':349, 'Vegan Cuts Snack Box':315, 'TokyoTreat':520, 'Try the World Snack':190}\n",
        "electronics_data['Snack_Sub_Name'] = np.random.choice(list(Calories), len(electronics_data))\n",
        "electronics_data['Calories Kcal'] = electronics_data['Snack_Sub_Name'].map(Calories)\n",
        "electronics_data.head(190)"
      ],
      "execution_count": 23,
      "outputs": [
        {
          "output_type": "execute_result",
          "data": {
            "text/html": [
              "<div>\n",
              "<style scoped>\n",
              "    .dataframe tbody tr th:only-of-type {\n",
              "        vertical-align: middle;\n",
              "    }\n",
              "\n",
              "    .dataframe tbody tr th {\n",
              "        vertical-align: top;\n",
              "    }\n",
              "\n",
              "    .dataframe thead th {\n",
              "        text-align: right;\n",
              "    }\n",
              "</style>\n",
              "<table border=\"1\" class=\"dataframe\">\n",
              "  <thead>\n",
              "    <tr style=\"text-align: right;\">\n",
              "      <th></th>\n",
              "      <th>UserId</th>\n",
              "      <th>ProductId</th>\n",
              "      <th>Rating</th>\n",
              "      <th>Timestamp</th>\n",
              "      <th>Snack_Sub_Name</th>\n",
              "      <th>Price</th>\n",
              "      <th>Snack Subscription ID</th>\n",
              "      <th>Calories Kcal</th>\n",
              "    </tr>\n",
              "  </thead>\n",
              "  <tbody>\n",
              "    <tr>\n",
              "      <th>0</th>\n",
              "      <td>AKM1MP6P0OYPR</td>\n",
              "      <td>0132793040</td>\n",
              "      <td>5.0</td>\n",
              "      <td>1365811200</td>\n",
              "      <td>NatureBox</td>\n",
              "      <td>13.00</td>\n",
              "      <td>594511488</td>\n",
              "      <td>229</td>\n",
              "    </tr>\n",
              "    <tr>\n",
              "      <th>1</th>\n",
              "      <td>A2CX7LUOHB2NDG</td>\n",
              "      <td>0321732944</td>\n",
              "      <td>5.0</td>\n",
              "      <td>1341100800</td>\n",
              "      <td>MunchPak</td>\n",
              "      <td>9.99</td>\n",
              "      <td>439886341</td>\n",
              "      <td>540</td>\n",
              "    </tr>\n",
              "    <tr>\n",
              "      <th>2</th>\n",
              "      <td>A2NWSAGRHCP8N5</td>\n",
              "      <td>0439886341</td>\n",
              "      <td>1.0</td>\n",
              "      <td>1367193600</td>\n",
              "      <td>Snackfair</td>\n",
              "      <td>9.99</td>\n",
              "      <td>439886341</td>\n",
              "      <td>387</td>\n",
              "    </tr>\n",
              "    <tr>\n",
              "      <th>3</th>\n",
              "      <td>A2WNBOD3WNDNKT</td>\n",
              "      <td>0439886341</td>\n",
              "      <td>3.0</td>\n",
              "      <td>1374451200</td>\n",
              "      <td>Try the World Snack</td>\n",
              "      <td>19.90</td>\n",
              "      <td>594477670</td>\n",
              "      <td>190</td>\n",
              "    </tr>\n",
              "    <tr>\n",
              "      <th>4</th>\n",
              "      <td>A1GI0U4ZRJA8WN</td>\n",
              "      <td>0439886341</td>\n",
              "      <td>1.0</td>\n",
              "      <td>1334707200</td>\n",
              "      <td>Candy Club</td>\n",
              "      <td>19.00</td>\n",
              "      <td>972683275</td>\n",
              "      <td>529</td>\n",
              "    </tr>\n",
              "    <tr>\n",
              "      <th>...</th>\n",
              "      <td>...</td>\n",
              "      <td>...</td>\n",
              "      <td>...</td>\n",
              "      <td>...</td>\n",
              "      <td>...</td>\n",
              "      <td>...</td>\n",
              "      <td>...</td>\n",
              "      <td>...</td>\n",
              "    </tr>\n",
              "    <tr>\n",
              "      <th>185</th>\n",
              "      <td>A36MQBNADRH8YY</td>\n",
              "      <td>0972683275</td>\n",
              "      <td>5.0</td>\n",
              "      <td>1405641600</td>\n",
              "      <td>Yummy Bazaar World Sampler</td>\n",
              "      <td>39.99</td>\n",
              "      <td>511189877</td>\n",
              "      <td>440</td>\n",
              "    </tr>\n",
              "    <tr>\n",
              "      <th>186</th>\n",
              "      <td>A3SRXMPLAEZ6DP</td>\n",
              "      <td>0972683275</td>\n",
              "      <td>4.0</td>\n",
              "      <td>1405987200</td>\n",
              "      <td>SnackNation</td>\n",
              "      <td>15.50</td>\n",
              "      <td>13279300</td>\n",
              "      <td>240</td>\n",
              "    </tr>\n",
              "    <tr>\n",
              "      <th>187</th>\n",
              "      <td>A20XXTXWF2TCPY</td>\n",
              "      <td>0972683275</td>\n",
              "      <td>5.0</td>\n",
              "      <td>1405123200</td>\n",
              "      <td>Vegan Cuts Snack Box</td>\n",
              "      <td>39.99</td>\n",
              "      <td>511189877</td>\n",
              "      <td>315</td>\n",
              "    </tr>\n",
              "    <tr>\n",
              "      <th>188</th>\n",
              "      <td>AOZZ0CTG5RMW1</td>\n",
              "      <td>0972683275</td>\n",
              "      <td>4.0</td>\n",
              "      <td>1302912000</td>\n",
              "      <td>Snakku</td>\n",
              "      <td>9.95</td>\n",
              "      <td>594451647</td>\n",
              "      <td>287</td>\n",
              "    </tr>\n",
              "    <tr>\n",
              "      <th>189</th>\n",
              "      <td>A2IDCSC6NVONIZ</td>\n",
              "      <td>0972683275</td>\n",
              "      <td>5.0</td>\n",
              "      <td>1367280000</td>\n",
              "      <td>MunchPak</td>\n",
              "      <td>38.95</td>\n",
              "      <td>321732944</td>\n",
              "      <td>540</td>\n",
              "    </tr>\n",
              "  </tbody>\n",
              "</table>\n",
              "<p>190 rows × 8 columns</p>\n",
              "</div>"
            ],
            "text/plain": [
              "             UserId   ProductId  ...  Snack Subscription ID  Calories Kcal\n",
              "0     AKM1MP6P0OYPR  0132793040  ...              594511488            229\n",
              "1    A2CX7LUOHB2NDG  0321732944  ...              439886341            540\n",
              "2    A2NWSAGRHCP8N5  0439886341  ...              439886341            387\n",
              "3    A2WNBOD3WNDNKT  0439886341  ...              594477670            190\n",
              "4    A1GI0U4ZRJA8WN  0439886341  ...              972683275            529\n",
              "..              ...         ...  ...                    ...            ...\n",
              "185  A36MQBNADRH8YY  0972683275  ...              511189877            440\n",
              "186  A3SRXMPLAEZ6DP  0972683275  ...               13279300            240\n",
              "187  A20XXTXWF2TCPY  0972683275  ...              511189877            315\n",
              "188   AOZZ0CTG5RMW1  0972683275  ...              594451647            287\n",
              "189  A2IDCSC6NVONIZ  0972683275  ...              321732944            540\n",
              "\n",
              "[190 rows x 8 columns]"
            ]
          },
          "metadata": {
            "tags": []
          },
          "execution_count": 23
        }
      ]
    },
    {
      "cell_type": "code",
      "metadata": {
        "colab_type": "code",
        "id": "fK-726K90mX0",
        "outputId": "38aafdfc-96cd-4088-e0e8-02cfb379cf1e",
        "colab": {
          "base_uri": "https://localhost:8080/",
          "height": 419
        }
      },
      "source": [
        "Protien = {'Snackfair': 8, 'Snakku':7, 'Love With Food':9, 'Candy Club':5, 'NatureBox':9, 'SnackNation':4, 'ZenPop':3, 'Yummy Bazaar World Sampler':12, 'FitSnack':14, 'Bokksu':12, 'MunchPak':9, 'Keto Krate':15, 'Universal Yums':12, 'Vegan Cuts Snack Box':11, 'TokyoTreat':7, 'Try the World Snack':8}\n",
        "electronics_data['Snack_Sub_Name'] = np.random.choice(list(Calories), len(electronics_data))\n",
        "electronics_data['Protien g'] = electronics_data['Snack_Sub_Name'].map(Protien)\n",
        "electronics_data.head(190)"
      ],
      "execution_count": 24,
      "outputs": [
        {
          "output_type": "execute_result",
          "data": {
            "text/html": [
              "<div>\n",
              "<style scoped>\n",
              "    .dataframe tbody tr th:only-of-type {\n",
              "        vertical-align: middle;\n",
              "    }\n",
              "\n",
              "    .dataframe tbody tr th {\n",
              "        vertical-align: top;\n",
              "    }\n",
              "\n",
              "    .dataframe thead th {\n",
              "        text-align: right;\n",
              "    }\n",
              "</style>\n",
              "<table border=\"1\" class=\"dataframe\">\n",
              "  <thead>\n",
              "    <tr style=\"text-align: right;\">\n",
              "      <th></th>\n",
              "      <th>UserId</th>\n",
              "      <th>ProductId</th>\n",
              "      <th>Rating</th>\n",
              "      <th>Timestamp</th>\n",
              "      <th>Snack_Sub_Name</th>\n",
              "      <th>Price</th>\n",
              "      <th>Snack Subscription ID</th>\n",
              "      <th>Calories Kcal</th>\n",
              "      <th>Protien g</th>\n",
              "    </tr>\n",
              "  </thead>\n",
              "  <tbody>\n",
              "    <tr>\n",
              "      <th>0</th>\n",
              "      <td>AKM1MP6P0OYPR</td>\n",
              "      <td>0132793040</td>\n",
              "      <td>5.0</td>\n",
              "      <td>1365811200</td>\n",
              "      <td>FitSnack</td>\n",
              "      <td>13.00</td>\n",
              "      <td>594511488</td>\n",
              "      <td>229</td>\n",
              "      <td>14</td>\n",
              "    </tr>\n",
              "    <tr>\n",
              "      <th>1</th>\n",
              "      <td>A2CX7LUOHB2NDG</td>\n",
              "      <td>0321732944</td>\n",
              "      <td>5.0</td>\n",
              "      <td>1341100800</td>\n",
              "      <td>FitSnack</td>\n",
              "      <td>9.99</td>\n",
              "      <td>439886341</td>\n",
              "      <td>540</td>\n",
              "      <td>14</td>\n",
              "    </tr>\n",
              "    <tr>\n",
              "      <th>2</th>\n",
              "      <td>A2NWSAGRHCP8N5</td>\n",
              "      <td>0439886341</td>\n",
              "      <td>1.0</td>\n",
              "      <td>1367193600</td>\n",
              "      <td>Vegan Cuts Snack Box</td>\n",
              "      <td>9.99</td>\n",
              "      <td>439886341</td>\n",
              "      <td>387</td>\n",
              "      <td>11</td>\n",
              "    </tr>\n",
              "    <tr>\n",
              "      <th>3</th>\n",
              "      <td>A2WNBOD3WNDNKT</td>\n",
              "      <td>0439886341</td>\n",
              "      <td>3.0</td>\n",
              "      <td>1374451200</td>\n",
              "      <td>Snakku</td>\n",
              "      <td>19.90</td>\n",
              "      <td>594477670</td>\n",
              "      <td>190</td>\n",
              "      <td>7</td>\n",
              "    </tr>\n",
              "    <tr>\n",
              "      <th>4</th>\n",
              "      <td>A1GI0U4ZRJA8WN</td>\n",
              "      <td>0439886341</td>\n",
              "      <td>1.0</td>\n",
              "      <td>1334707200</td>\n",
              "      <td>ZenPop</td>\n",
              "      <td>19.00</td>\n",
              "      <td>972683275</td>\n",
              "      <td>529</td>\n",
              "      <td>3</td>\n",
              "    </tr>\n",
              "    <tr>\n",
              "      <th>...</th>\n",
              "      <td>...</td>\n",
              "      <td>...</td>\n",
              "      <td>...</td>\n",
              "      <td>...</td>\n",
              "      <td>...</td>\n",
              "      <td>...</td>\n",
              "      <td>...</td>\n",
              "      <td>...</td>\n",
              "      <td>...</td>\n",
              "    </tr>\n",
              "    <tr>\n",
              "      <th>185</th>\n",
              "      <td>A36MQBNADRH8YY</td>\n",
              "      <td>0972683275</td>\n",
              "      <td>5.0</td>\n",
              "      <td>1405641600</td>\n",
              "      <td>Snakku</td>\n",
              "      <td>39.99</td>\n",
              "      <td>511189877</td>\n",
              "      <td>440</td>\n",
              "      <td>7</td>\n",
              "    </tr>\n",
              "    <tr>\n",
              "      <th>186</th>\n",
              "      <td>A3SRXMPLAEZ6DP</td>\n",
              "      <td>0972683275</td>\n",
              "      <td>4.0</td>\n",
              "      <td>1405987200</td>\n",
              "      <td>Vegan Cuts Snack Box</td>\n",
              "      <td>15.50</td>\n",
              "      <td>13279300</td>\n",
              "      <td>240</td>\n",
              "      <td>11</td>\n",
              "    </tr>\n",
              "    <tr>\n",
              "      <th>187</th>\n",
              "      <td>A20XXTXWF2TCPY</td>\n",
              "      <td>0972683275</td>\n",
              "      <td>5.0</td>\n",
              "      <td>1405123200</td>\n",
              "      <td>Bokksu</td>\n",
              "      <td>39.99</td>\n",
              "      <td>511189877</td>\n",
              "      <td>315</td>\n",
              "      <td>12</td>\n",
              "    </tr>\n",
              "    <tr>\n",
              "      <th>188</th>\n",
              "      <td>AOZZ0CTG5RMW1</td>\n",
              "      <td>0972683275</td>\n",
              "      <td>4.0</td>\n",
              "      <td>1302912000</td>\n",
              "      <td>Vegan Cuts Snack Box</td>\n",
              "      <td>9.95</td>\n",
              "      <td>594451647</td>\n",
              "      <td>287</td>\n",
              "      <td>11</td>\n",
              "    </tr>\n",
              "    <tr>\n",
              "      <th>189</th>\n",
              "      <td>A2IDCSC6NVONIZ</td>\n",
              "      <td>0972683275</td>\n",
              "      <td>5.0</td>\n",
              "      <td>1367280000</td>\n",
              "      <td>FitSnack</td>\n",
              "      <td>38.95</td>\n",
              "      <td>321732944</td>\n",
              "      <td>540</td>\n",
              "      <td>14</td>\n",
              "    </tr>\n",
              "  </tbody>\n",
              "</table>\n",
              "<p>190 rows × 9 columns</p>\n",
              "</div>"
            ],
            "text/plain": [
              "             UserId   ProductId  ...  Calories Kcal  Protien g\n",
              "0     AKM1MP6P0OYPR  0132793040  ...            229         14\n",
              "1    A2CX7LUOHB2NDG  0321732944  ...            540         14\n",
              "2    A2NWSAGRHCP8N5  0439886341  ...            387         11\n",
              "3    A2WNBOD3WNDNKT  0439886341  ...            190          7\n",
              "4    A1GI0U4ZRJA8WN  0439886341  ...            529          3\n",
              "..              ...         ...  ...            ...        ...\n",
              "185  A36MQBNADRH8YY  0972683275  ...            440          7\n",
              "186  A3SRXMPLAEZ6DP  0972683275  ...            240         11\n",
              "187  A20XXTXWF2TCPY  0972683275  ...            315         12\n",
              "188   AOZZ0CTG5RMW1  0972683275  ...            287         11\n",
              "189  A2IDCSC6NVONIZ  0972683275  ...            540         14\n",
              "\n",
              "[190 rows x 9 columns]"
            ]
          },
          "metadata": {
            "tags": []
          },
          "execution_count": 24
        }
      ]
    },
    {
      "cell_type": "code",
      "metadata": {
        "colab_type": "code",
        "id": "hHBc_Seb0l_L",
        "outputId": "ee2528cc-2973-42d6-cdb2-714d1d65cd11",
        "colab": {
          "base_uri": "https://localhost:8080/",
          "height": 419
        }
      },
      "source": [
        "Fat = {'Snackfair': 5, 'Snakku':15, 'Love With Food':19, 'Candy Club':13, 'NatureBox':8, 'SnackNation':7, 'ZenPop':13, 'Yummy Bazaar World Sampler':19, 'FitSnack':4, 'Bokksu':9, 'MunchPak':18, 'Keto Krate':20, 'Universal Yums':11, 'Vegan Cuts Snack Box':9, 'TokyoTreat':17, 'Try the World Snack':16}\n",
        "electronics_data['Snack_Sub_Name'] = np.random.choice(list(Calories), len(electronics_data))\n",
        "electronics_data['Fat g'] = electronics_data['Snack_Sub_Name'].map(Fat)\n",
        "electronics_data.head(190)"
      ],
      "execution_count": 38,
      "outputs": [
        {
          "output_type": "execute_result",
          "data": {
            "text/html": [
              "<div>\n",
              "<style scoped>\n",
              "    .dataframe tbody tr th:only-of-type {\n",
              "        vertical-align: middle;\n",
              "    }\n",
              "\n",
              "    .dataframe tbody tr th {\n",
              "        vertical-align: top;\n",
              "    }\n",
              "\n",
              "    .dataframe thead th {\n",
              "        text-align: right;\n",
              "    }\n",
              "</style>\n",
              "<table border=\"1\" class=\"dataframe\">\n",
              "  <thead>\n",
              "    <tr style=\"text-align: right;\">\n",
              "      <th></th>\n",
              "      <th>UserId</th>\n",
              "      <th>ProductId</th>\n",
              "      <th>Rating</th>\n",
              "      <th>Timestamp</th>\n",
              "      <th>Snack_Sub_Name</th>\n",
              "      <th>Price</th>\n",
              "      <th>Snack Subscription ID</th>\n",
              "      <th>Calories Kcal</th>\n",
              "      <th>Protien g</th>\n",
              "      <th>Fat g</th>\n",
              "    </tr>\n",
              "  </thead>\n",
              "  <tbody>\n",
              "    <tr>\n",
              "      <th>0</th>\n",
              "      <td>AKM1MP6P0OYPR</td>\n",
              "      <td>0132793040</td>\n",
              "      <td>5.0</td>\n",
              "      <td>1365811200</td>\n",
              "      <td>Try the World Snack</td>\n",
              "      <td>13.00</td>\n",
              "      <td>594511488</td>\n",
              "      <td>229</td>\n",
              "      <td>14</td>\n",
              "      <td>16</td>\n",
              "    </tr>\n",
              "    <tr>\n",
              "      <th>1</th>\n",
              "      <td>A2CX7LUOHB2NDG</td>\n",
              "      <td>0321732944</td>\n",
              "      <td>5.0</td>\n",
              "      <td>1341100800</td>\n",
              "      <td>Yummy Bazaar World Sampler</td>\n",
              "      <td>9.99</td>\n",
              "      <td>439886341</td>\n",
              "      <td>540</td>\n",
              "      <td>14</td>\n",
              "      <td>19</td>\n",
              "    </tr>\n",
              "    <tr>\n",
              "      <th>2</th>\n",
              "      <td>A2NWSAGRHCP8N5</td>\n",
              "      <td>0439886341</td>\n",
              "      <td>1.0</td>\n",
              "      <td>1367193600</td>\n",
              "      <td>Love With Food</td>\n",
              "      <td>9.99</td>\n",
              "      <td>439886341</td>\n",
              "      <td>387</td>\n",
              "      <td>11</td>\n",
              "      <td>19</td>\n",
              "    </tr>\n",
              "    <tr>\n",
              "      <th>3</th>\n",
              "      <td>A2WNBOD3WNDNKT</td>\n",
              "      <td>0439886341</td>\n",
              "      <td>3.0</td>\n",
              "      <td>1374451200</td>\n",
              "      <td>Candy Club</td>\n",
              "      <td>19.90</td>\n",
              "      <td>594477670</td>\n",
              "      <td>190</td>\n",
              "      <td>7</td>\n",
              "      <td>13</td>\n",
              "    </tr>\n",
              "    <tr>\n",
              "      <th>4</th>\n",
              "      <td>A1GI0U4ZRJA8WN</td>\n",
              "      <td>0439886341</td>\n",
              "      <td>1.0</td>\n",
              "      <td>1334707200</td>\n",
              "      <td>Keto Krate</td>\n",
              "      <td>19.00</td>\n",
              "      <td>972683275</td>\n",
              "      <td>529</td>\n",
              "      <td>3</td>\n",
              "      <td>20</td>\n",
              "    </tr>\n",
              "    <tr>\n",
              "      <th>...</th>\n",
              "      <td>...</td>\n",
              "      <td>...</td>\n",
              "      <td>...</td>\n",
              "      <td>...</td>\n",
              "      <td>...</td>\n",
              "      <td>...</td>\n",
              "      <td>...</td>\n",
              "      <td>...</td>\n",
              "      <td>...</td>\n",
              "      <td>...</td>\n",
              "    </tr>\n",
              "    <tr>\n",
              "      <th>185</th>\n",
              "      <td>A36MQBNADRH8YY</td>\n",
              "      <td>0972683275</td>\n",
              "      <td>5.0</td>\n",
              "      <td>1405641600</td>\n",
              "      <td>TokyoTreat</td>\n",
              "      <td>39.99</td>\n",
              "      <td>511189877</td>\n",
              "      <td>440</td>\n",
              "      <td>7</td>\n",
              "      <td>17</td>\n",
              "    </tr>\n",
              "    <tr>\n",
              "      <th>186</th>\n",
              "      <td>A3SRXMPLAEZ6DP</td>\n",
              "      <td>0972683275</td>\n",
              "      <td>4.0</td>\n",
              "      <td>1405987200</td>\n",
              "      <td>Try the World Snack</td>\n",
              "      <td>15.50</td>\n",
              "      <td>13279300</td>\n",
              "      <td>240</td>\n",
              "      <td>11</td>\n",
              "      <td>16</td>\n",
              "    </tr>\n",
              "    <tr>\n",
              "      <th>187</th>\n",
              "      <td>A20XXTXWF2TCPY</td>\n",
              "      <td>0972683275</td>\n",
              "      <td>5.0</td>\n",
              "      <td>1405123200</td>\n",
              "      <td>Snackfair</td>\n",
              "      <td>39.99</td>\n",
              "      <td>511189877</td>\n",
              "      <td>315</td>\n",
              "      <td>12</td>\n",
              "      <td>5</td>\n",
              "    </tr>\n",
              "    <tr>\n",
              "      <th>188</th>\n",
              "      <td>AOZZ0CTG5RMW1</td>\n",
              "      <td>0972683275</td>\n",
              "      <td>4.0</td>\n",
              "      <td>1302912000</td>\n",
              "      <td>Yummy Bazaar World Sampler</td>\n",
              "      <td>9.95</td>\n",
              "      <td>594451647</td>\n",
              "      <td>287</td>\n",
              "      <td>11</td>\n",
              "      <td>19</td>\n",
              "    </tr>\n",
              "    <tr>\n",
              "      <th>189</th>\n",
              "      <td>A2IDCSC6NVONIZ</td>\n",
              "      <td>0972683275</td>\n",
              "      <td>5.0</td>\n",
              "      <td>1367280000</td>\n",
              "      <td>Keto Krate</td>\n",
              "      <td>38.95</td>\n",
              "      <td>321732944</td>\n",
              "      <td>540</td>\n",
              "      <td>14</td>\n",
              "      <td>20</td>\n",
              "    </tr>\n",
              "  </tbody>\n",
              "</table>\n",
              "<p>190 rows × 10 columns</p>\n",
              "</div>"
            ],
            "text/plain": [
              "             UserId   ProductId  Rating  ...  Calories Kcal Protien g  Fat g\n",
              "0     AKM1MP6P0OYPR  0132793040     5.0  ...            229        14     16\n",
              "1    A2CX7LUOHB2NDG  0321732944     5.0  ...            540        14     19\n",
              "2    A2NWSAGRHCP8N5  0439886341     1.0  ...            387        11     19\n",
              "3    A2WNBOD3WNDNKT  0439886341     3.0  ...            190         7     13\n",
              "4    A1GI0U4ZRJA8WN  0439886341     1.0  ...            529         3     20\n",
              "..              ...         ...     ...  ...            ...       ...    ...\n",
              "185  A36MQBNADRH8YY  0972683275     5.0  ...            440         7     17\n",
              "186  A3SRXMPLAEZ6DP  0972683275     4.0  ...            240        11     16\n",
              "187  A20XXTXWF2TCPY  0972683275     5.0  ...            315        12      5\n",
              "188   AOZZ0CTG5RMW1  0972683275     4.0  ...            287        11     19\n",
              "189  A2IDCSC6NVONIZ  0972683275     5.0  ...            540        14     20\n",
              "\n",
              "[190 rows x 10 columns]"
            ]
          },
          "metadata": {
            "tags": []
          },
          "execution_count": 38
        }
      ]
    },
    {
      "cell_type": "code",
      "metadata": {
        "colab_type": "code",
        "id": "BWomHoIEAr1M",
        "outputId": "09230447-cf1d-4eb4-fc2b-bec16d2d4907",
        "colab": {
          "base_uri": "https://localhost:8080/",
          "height": 204
        }
      },
      "source": [
        "electronics_data.head()"
      ],
      "execution_count": 39,
      "outputs": [
        {
          "output_type": "execute_result",
          "data": {
            "text/html": [
              "<div>\n",
              "<style scoped>\n",
              "    .dataframe tbody tr th:only-of-type {\n",
              "        vertical-align: middle;\n",
              "    }\n",
              "\n",
              "    .dataframe tbody tr th {\n",
              "        vertical-align: top;\n",
              "    }\n",
              "\n",
              "    .dataframe thead th {\n",
              "        text-align: right;\n",
              "    }\n",
              "</style>\n",
              "<table border=\"1\" class=\"dataframe\">\n",
              "  <thead>\n",
              "    <tr style=\"text-align: right;\">\n",
              "      <th></th>\n",
              "      <th>UserId</th>\n",
              "      <th>ProductId</th>\n",
              "      <th>Rating</th>\n",
              "      <th>Timestamp</th>\n",
              "      <th>Snack_Sub_Name</th>\n",
              "      <th>Price</th>\n",
              "      <th>Snack Subscription ID</th>\n",
              "      <th>Calories Kcal</th>\n",
              "      <th>Protien g</th>\n",
              "      <th>Fat g</th>\n",
              "    </tr>\n",
              "  </thead>\n",
              "  <tbody>\n",
              "    <tr>\n",
              "      <th>0</th>\n",
              "      <td>AKM1MP6P0OYPR</td>\n",
              "      <td>0132793040</td>\n",
              "      <td>5.0</td>\n",
              "      <td>1365811200</td>\n",
              "      <td>Try the World Snack</td>\n",
              "      <td>13.00</td>\n",
              "      <td>594511488</td>\n",
              "      <td>229</td>\n",
              "      <td>14</td>\n",
              "      <td>16</td>\n",
              "    </tr>\n",
              "    <tr>\n",
              "      <th>1</th>\n",
              "      <td>A2CX7LUOHB2NDG</td>\n",
              "      <td>0321732944</td>\n",
              "      <td>5.0</td>\n",
              "      <td>1341100800</td>\n",
              "      <td>Yummy Bazaar World Sampler</td>\n",
              "      <td>9.99</td>\n",
              "      <td>439886341</td>\n",
              "      <td>540</td>\n",
              "      <td>14</td>\n",
              "      <td>19</td>\n",
              "    </tr>\n",
              "    <tr>\n",
              "      <th>2</th>\n",
              "      <td>A2NWSAGRHCP8N5</td>\n",
              "      <td>0439886341</td>\n",
              "      <td>1.0</td>\n",
              "      <td>1367193600</td>\n",
              "      <td>Love With Food</td>\n",
              "      <td>9.99</td>\n",
              "      <td>439886341</td>\n",
              "      <td>387</td>\n",
              "      <td>11</td>\n",
              "      <td>19</td>\n",
              "    </tr>\n",
              "    <tr>\n",
              "      <th>3</th>\n",
              "      <td>A2WNBOD3WNDNKT</td>\n",
              "      <td>0439886341</td>\n",
              "      <td>3.0</td>\n",
              "      <td>1374451200</td>\n",
              "      <td>Candy Club</td>\n",
              "      <td>19.90</td>\n",
              "      <td>594477670</td>\n",
              "      <td>190</td>\n",
              "      <td>7</td>\n",
              "      <td>13</td>\n",
              "    </tr>\n",
              "    <tr>\n",
              "      <th>4</th>\n",
              "      <td>A1GI0U4ZRJA8WN</td>\n",
              "      <td>0439886341</td>\n",
              "      <td>1.0</td>\n",
              "      <td>1334707200</td>\n",
              "      <td>Keto Krate</td>\n",
              "      <td>19.00</td>\n",
              "      <td>972683275</td>\n",
              "      <td>529</td>\n",
              "      <td>3</td>\n",
              "      <td>20</td>\n",
              "    </tr>\n",
              "  </tbody>\n",
              "</table>\n",
              "</div>"
            ],
            "text/plain": [
              "           UserId   ProductId  Rating  ...  Calories Kcal Protien g  Fat g\n",
              "0   AKM1MP6P0OYPR  0132793040     5.0  ...            229        14     16\n",
              "1  A2CX7LUOHB2NDG  0321732944     5.0  ...            540        14     19\n",
              "2  A2NWSAGRHCP8N5  0439886341     1.0  ...            387        11     19\n",
              "3  A2WNBOD3WNDNKT  0439886341     3.0  ...            190         7     13\n",
              "4  A1GI0U4ZRJA8WN  0439886341     1.0  ...            529         3     20\n",
              "\n",
              "[5 rows x 10 columns]"
            ]
          },
          "metadata": {
            "tags": []
          },
          "execution_count": 39
        }
      ]
    },
    {
      "cell_type": "code",
      "metadata": {
        "colab_type": "code",
        "id": "8BIRzB1OBWV2",
        "colab": {}
      },
      "source": [
        "electronics_data.to_csv(r'SnackBars.csv', index = False, header=True)"
      ],
      "execution_count": 0,
      "outputs": []
    },
    {
      "cell_type": "code",
      "metadata": {
        "colab_type": "code",
        "id": "RdQXe-jmCKwP",
        "colab": {}
      },
      "source": [
        "electronics_data['Serving Size g'] = '100'"
      ],
      "execution_count": 0,
      "outputs": []
    },
    {
      "cell_type": "code",
      "metadata": {
        "colab_type": "code",
        "id": "3yME6nBPGk98",
        "outputId": "0530c94d-5af0-443d-8d02-ddbe97dd90bd",
        "colab": {
          "base_uri": "https://localhost:8080/",
          "height": 204
        }
      },
      "source": [
        "electronics_data.head()"
      ],
      "execution_count": 0,
      "outputs": [
        {
          "output_type": "execute_result",
          "data": {
            "text/html": [
              "<div>\n",
              "<style scoped>\n",
              "    .dataframe tbody tr th:only-of-type {\n",
              "        vertical-align: middle;\n",
              "    }\n",
              "\n",
              "    .dataframe tbody tr th {\n",
              "        vertical-align: top;\n",
              "    }\n",
              "\n",
              "    .dataframe thead th {\n",
              "        text-align: right;\n",
              "    }\n",
              "</style>\n",
              "<table border=\"1\" class=\"dataframe\">\n",
              "  <thead>\n",
              "    <tr style=\"text-align: right;\">\n",
              "      <th></th>\n",
              "      <th>UserId</th>\n",
              "      <th>Rating</th>\n",
              "      <th>Timestamp</th>\n",
              "      <th>Snack_Sub_Name</th>\n",
              "      <th>Price</th>\n",
              "      <th>Snack Subscription ID</th>\n",
              "      <th>Calories Kcal</th>\n",
              "      <th>Protien g</th>\n",
              "      <th>Fat g</th>\n",
              "    </tr>\n",
              "  </thead>\n",
              "  <tbody>\n",
              "    <tr>\n",
              "      <th>0</th>\n",
              "      <td>AKM1MP6P0OYPR</td>\n",
              "      <td>5.0</td>\n",
              "      <td>1365811200</td>\n",
              "      <td>MunchPak</td>\n",
              "      <td>22.50</td>\n",
              "      <td>970407998</td>\n",
              "      <td>429</td>\n",
              "      <td>4</td>\n",
              "      <td>18</td>\n",
              "    </tr>\n",
              "    <tr>\n",
              "      <th>1</th>\n",
              "      <td>A2CX7LUOHB2NDG</td>\n",
              "      <td>5.0</td>\n",
              "      <td>1341100800</td>\n",
              "      <td>Candy Club</td>\n",
              "      <td>22.95</td>\n",
              "      <td>899336795</td>\n",
              "      <td>520</td>\n",
              "      <td>3</td>\n",
              "      <td>13</td>\n",
              "    </tr>\n",
              "    <tr>\n",
              "      <th>2</th>\n",
              "      <td>A2NWSAGRHCP8N5</td>\n",
              "      <td>1.0</td>\n",
              "      <td>1367193600</td>\n",
              "      <td>NatureBox</td>\n",
              "      <td>9.95</td>\n",
              "      <td>594481902</td>\n",
              "      <td>315</td>\n",
              "      <td>14</td>\n",
              "      <td>8</td>\n",
              "    </tr>\n",
              "    <tr>\n",
              "      <th>3</th>\n",
              "      <td>A2WNBOD3WNDNKT</td>\n",
              "      <td>3.0</td>\n",
              "      <td>1374451200</td>\n",
              "      <td>Bokksu</td>\n",
              "      <td>39.00</td>\n",
              "      <td>594481813</td>\n",
              "      <td>540</td>\n",
              "      <td>8</td>\n",
              "      <td>9</td>\n",
              "    </tr>\n",
              "    <tr>\n",
              "      <th>4</th>\n",
              "      <td>A1GI0U4ZRJA8WN</td>\n",
              "      <td>1.0</td>\n",
              "      <td>1334707200</td>\n",
              "      <td>MunchPak</td>\n",
              "      <td>9.95</td>\n",
              "      <td>594451647</td>\n",
              "      <td>520</td>\n",
              "      <td>3</td>\n",
              "      <td>18</td>\n",
              "    </tr>\n",
              "  </tbody>\n",
              "</table>\n",
              "</div>"
            ],
            "text/plain": [
              "           UserId  Rating   Timestamp  ... Calories Kcal  Protien g  Fat g\n",
              "0   AKM1MP6P0OYPR     5.0  1365811200  ...           429          4     18\n",
              "1  A2CX7LUOHB2NDG     5.0  1341100800  ...           520          3     13\n",
              "2  A2NWSAGRHCP8N5     1.0  1367193600  ...           315         14      8\n",
              "3  A2WNBOD3WNDNKT     3.0  1374451200  ...           540          8      9\n",
              "4  A1GI0U4ZRJA8WN     1.0  1334707200  ...           520          3     18\n",
              "\n",
              "[5 rows x 9 columns]"
            ]
          },
          "metadata": {
            "tags": []
          },
          "execution_count": 53
        }
      ]
    },
    {
      "cell_type": "code",
      "metadata": {
        "colab_type": "code",
        "id": "uG8F2ld-HD9r",
        "colab": {}
      },
      "source": [
        "del electronics_data['ProductId']"
      ],
      "execution_count": 0,
      "outputs": []
    },
    {
      "cell_type": "code",
      "metadata": {
        "colab_type": "code",
        "id": "FL_fhHf4HOBk",
        "outputId": "440b7d9e-6724-48d5-a54e-1c765c70a09e",
        "colab": {
          "base_uri": "https://localhost:8080/",
          "height": 453
        }
      },
      "source": [
        "Calories = {'Snackfair': 387, 'Snakku':287, 'Love With Food':429, 'Candy Club':529, 'NatureBox':229, 'SnackNation':240, 'ZenPop':340, 'Yummy Bazaar World Sampler':440, 'FitSnack':240, 'Bokksu':340, 'MunchPak':540, 'Keto Krate':440, 'Universal Yums':349, 'Vegan Cuts Snack Box':315, 'TokyoTreat':520, 'Try the World Snack':190}\n",
        "electronics_data['Snack_Sub_Name'] = np.random.choice(list(Calories), len(electronics_data))\n",
        "electronics_data['Calories Kcal'] = electronics_data['Snack_Sub_Name'].map(Calories)\n",
        "electronics_data.head(190)"
      ],
      "execution_count": 0,
      "outputs": [
        {
          "output_type": "execute_result",
          "data": {
            "text/html": [
              "<div>\n",
              "<style scoped>\n",
              "    .dataframe tbody tr th:only-of-type {\n",
              "        vertical-align: middle;\n",
              "    }\n",
              "\n",
              "    .dataframe tbody tr th {\n",
              "        vertical-align: top;\n",
              "    }\n",
              "\n",
              "    .dataframe thead th {\n",
              "        text-align: right;\n",
              "    }\n",
              "</style>\n",
              "<table border=\"1\" class=\"dataframe\">\n",
              "  <thead>\n",
              "    <tr style=\"text-align: right;\">\n",
              "      <th></th>\n",
              "      <th>UserId</th>\n",
              "      <th>Rating</th>\n",
              "      <th>Timestamp</th>\n",
              "      <th>Snack_Sub_Name</th>\n",
              "      <th>Price</th>\n",
              "      <th>Snack Subscription ID</th>\n",
              "      <th>Calories Kcal</th>\n",
              "      <th>Protien g</th>\n",
              "      <th>Fat g</th>\n",
              "      <th>Serving Size g</th>\n",
              "    </tr>\n",
              "  </thead>\n",
              "  <tbody>\n",
              "    <tr>\n",
              "      <th>0</th>\n",
              "      <td>AKM1MP6P0OYPR</td>\n",
              "      <td>5.0</td>\n",
              "      <td>1365811200</td>\n",
              "      <td>Love With Food</td>\n",
              "      <td>39.00</td>\n",
              "      <td>594481813</td>\n",
              "      <td>429</td>\n",
              "      <td>12</td>\n",
              "      <td>16</td>\n",
              "      <td>100</td>\n",
              "    </tr>\n",
              "    <tr>\n",
              "      <th>1</th>\n",
              "      <td>A2CX7LUOHB2NDG</td>\n",
              "      <td>5.0</td>\n",
              "      <td>1341100800</td>\n",
              "      <td>TokyoTreat</td>\n",
              "      <td>5.00</td>\n",
              "      <td>528881469</td>\n",
              "      <td>520</td>\n",
              "      <td>15</td>\n",
              "      <td>20</td>\n",
              "      <td>100</td>\n",
              "    </tr>\n",
              "    <tr>\n",
              "      <th>2</th>\n",
              "      <td>A2NWSAGRHCP8N5</td>\n",
              "      <td>1.0</td>\n",
              "      <td>1367193600</td>\n",
              "      <td>Keto Krate</td>\n",
              "      <td>39.99</td>\n",
              "      <td>511189877</td>\n",
              "      <td>440</td>\n",
              "      <td>8</td>\n",
              "      <td>15</td>\n",
              "      <td>100</td>\n",
              "    </tr>\n",
              "    <tr>\n",
              "      <th>3</th>\n",
              "      <td>A2WNBOD3WNDNKT</td>\n",
              "      <td>3.0</td>\n",
              "      <td>1374451200</td>\n",
              "      <td>MunchPak</td>\n",
              "      <td>38.95</td>\n",
              "      <td>321732944</td>\n",
              "      <td>540</td>\n",
              "      <td>7</td>\n",
              "      <td>18</td>\n",
              "      <td>100</td>\n",
              "    </tr>\n",
              "    <tr>\n",
              "      <th>4</th>\n",
              "      <td>A1GI0U4ZRJA8WN</td>\n",
              "      <td>1.0</td>\n",
              "      <td>1334707200</td>\n",
              "      <td>Universal Yums</td>\n",
              "      <td>39.99</td>\n",
              "      <td>511189877</td>\n",
              "      <td>349</td>\n",
              "      <td>9</td>\n",
              "      <td>9</td>\n",
              "      <td>100</td>\n",
              "    </tr>\n",
              "    <tr>\n",
              "      <th>...</th>\n",
              "      <td>...</td>\n",
              "      <td>...</td>\n",
              "      <td>...</td>\n",
              "      <td>...</td>\n",
              "      <td>...</td>\n",
              "      <td>...</td>\n",
              "      <td>...</td>\n",
              "      <td>...</td>\n",
              "      <td>...</td>\n",
              "      <td>...</td>\n",
              "    </tr>\n",
              "    <tr>\n",
              "      <th>185</th>\n",
              "      <td>A36MQBNADRH8YY</td>\n",
              "      <td>5.0</td>\n",
              "      <td>1405641600</td>\n",
              "      <td>Candy Club</td>\n",
              "      <td>13.00</td>\n",
              "      <td>594511488</td>\n",
              "      <td>529</td>\n",
              "      <td>12</td>\n",
              "      <td>13</td>\n",
              "      <td>100</td>\n",
              "    </tr>\n",
              "    <tr>\n",
              "      <th>186</th>\n",
              "      <td>A3SRXMPLAEZ6DP</td>\n",
              "      <td>4.0</td>\n",
              "      <td>1405987200</td>\n",
              "      <td>Yummy Bazaar World Sampler</td>\n",
              "      <td>22.50</td>\n",
              "      <td>970407998</td>\n",
              "      <td>440</td>\n",
              "      <td>12</td>\n",
              "      <td>9</td>\n",
              "      <td>100</td>\n",
              "    </tr>\n",
              "    <tr>\n",
              "      <th>187</th>\n",
              "      <td>A20XXTXWF2TCPY</td>\n",
              "      <td>5.0</td>\n",
              "      <td>1405123200</td>\n",
              "      <td>Snakku</td>\n",
              "      <td>9.99</td>\n",
              "      <td>558835155</td>\n",
              "      <td>287</td>\n",
              "      <td>14</td>\n",
              "      <td>4</td>\n",
              "      <td>100</td>\n",
              "    </tr>\n",
              "    <tr>\n",
              "      <th>188</th>\n",
              "      <td>AOZZ0CTG5RMW1</td>\n",
              "      <td>4.0</td>\n",
              "      <td>1302912000</td>\n",
              "      <td>MunchPak</td>\n",
              "      <td>9.99</td>\n",
              "      <td>439886341</td>\n",
              "      <td>540</td>\n",
              "      <td>5</td>\n",
              "      <td>18</td>\n",
              "      <td>100</td>\n",
              "    </tr>\n",
              "    <tr>\n",
              "      <th>189</th>\n",
              "      <td>A2IDCSC6NVONIZ</td>\n",
              "      <td>5.0</td>\n",
              "      <td>1367280000</td>\n",
              "      <td>Vegan Cuts Snack Box</td>\n",
              "      <td>13.00</td>\n",
              "      <td>594511488</td>\n",
              "      <td>315</td>\n",
              "      <td>14</td>\n",
              "      <td>4</td>\n",
              "      <td>100</td>\n",
              "    </tr>\n",
              "  </tbody>\n",
              "</table>\n",
              "<p>190 rows × 10 columns</p>\n",
              "</div>"
            ],
            "text/plain": [
              "             UserId  Rating   Timestamp  ... Protien g  Fat g  Serving Size g\n",
              "0     AKM1MP6P0OYPR     5.0  1365811200  ...        12     16             100\n",
              "1    A2CX7LUOHB2NDG     5.0  1341100800  ...        15     20             100\n",
              "2    A2NWSAGRHCP8N5     1.0  1367193600  ...         8     15             100\n",
              "3    A2WNBOD3WNDNKT     3.0  1374451200  ...         7     18             100\n",
              "4    A1GI0U4ZRJA8WN     1.0  1334707200  ...         9      9             100\n",
              "..              ...     ...         ...  ...       ...    ...             ...\n",
              "185  A36MQBNADRH8YY     5.0  1405641600  ...        12     13             100\n",
              "186  A3SRXMPLAEZ6DP     4.0  1405987200  ...        12      9             100\n",
              "187  A20XXTXWF2TCPY     5.0  1405123200  ...        14      4             100\n",
              "188   AOZZ0CTG5RMW1     4.0  1302912000  ...         5     18             100\n",
              "189  A2IDCSC6NVONIZ     5.0  1367280000  ...        14      4             100\n",
              "\n",
              "[190 rows x 10 columns]"
            ]
          },
          "metadata": {
            "tags": []
          },
          "execution_count": 36
        }
      ]
    },
    {
      "cell_type": "code",
      "metadata": {
        "colab_type": "code",
        "id": "BohUJJ7GHQhr",
        "colab": {}
      },
      "source": [
        "electronics_data.to_csv ('to_be_trained.csv', index = False, header=True)"
      ],
      "execution_count": 0,
      "outputs": []
    },
    {
      "cell_type": "code",
      "metadata": {
        "id": "IaXyUY5Dajfg",
        "colab_type": "code",
        "colab": {}
      },
      "source": [
        ""
      ],
      "execution_count": 0,
      "outputs": []
    },
    {
      "cell_type": "code",
      "metadata": {
        "colab_type": "code",
        "id": "5F_jNONDT5PL",
        "outputId": "749285da-4d49-49f5-f283-4f34f36442a6",
        "colab": {
          "base_uri": "https://localhost:8080/",
          "height": 819
        }
      },
      "source": [
        " !pip install papermill"
      ],
      "execution_count": 32,
      "outputs": [
        {
          "output_type": "stream",
          "text": [
            "Collecting papermill\n",
            "  Downloading https://files.pythonhosted.org/packages/1f/83/4063c0622a465f677736b4fcbbdbf50d18fcd78f4ae7211f1e17591e1ed2/papermill-2.0.0-py3-none-any.whl\n",
            "Requirement already satisfied: entrypoints in /usr/local/lib/python3.6/dist-packages (from papermill) (0.3)\n",
            "Requirement already satisfied: pyyaml in /usr/local/lib/python3.6/dist-packages (from papermill) (3.13)\n",
            "Collecting tenacity\n",
            "  Downloading https://files.pythonhosted.org/packages/9a/30/4d1205370f249f6e3ff0d29f8eb3aebfb7f88bf925364a222c6abcbc383e/tenacity-6.1.0-py2.py3-none-any.whl\n",
            "Collecting ansiwrap\n",
            "  Downloading https://files.pythonhosted.org/packages/03/50/43e775a63e0d632d9be3b3fa1c9b2cbaf3b7870d203655710a3426f47c26/ansiwrap-0.8.4-py2.py3-none-any.whl\n",
            "Requirement already satisfied: tqdm>=4.32.2 in /usr/local/lib/python3.6/dist-packages (from papermill) (4.38.0)\n",
            "Requirement already satisfied: jupyter-client in /usr/local/lib/python3.6/dist-packages (from papermill) (5.3.4)\n",
            "Requirement already satisfied: nbformat in /usr/local/lib/python3.6/dist-packages (from papermill) (5.0.4)\n",
            "Requirement already satisfied: requests in /usr/local/lib/python3.6/dist-packages (from papermill) (2.21.0)\n",
            "Collecting black; python_version >= \"3.6\"\n",
            "\u001b[?25l  Downloading https://files.pythonhosted.org/packages/fd/bb/ad34bbc93d1bea3de086d7c59e528d4a503ac8fe318bd1fa48605584c3d2/black-19.10b0-py36-none-any.whl (97kB)\n",
            "\u001b[K     |████████████████████████████████| 102kB 3.2MB/s \n",
            "\u001b[?25hRequirement already satisfied: click in /usr/local/lib/python3.6/dist-packages (from papermill) (7.1.1)\n",
            "Collecting nbclient\n",
            "\u001b[?25l  Downloading https://files.pythonhosted.org/packages/0c/61/b9bfa39e6d9688607c559ba8527fff950bd06a7ed840787565f04194333f/nbclient-0.1.0-py3-none-any.whl (50kB)\n",
            "\u001b[K     |████████████████████████████████| 51kB 6.3MB/s \n",
            "\u001b[?25hRequirement already satisfied: six>=1.9.0 in /usr/local/lib/python3.6/dist-packages (from tenacity->papermill) (1.12.0)\n",
            "Collecting textwrap3>=0.9.2\n",
            "  Downloading https://files.pythonhosted.org/packages/77/9c/a53e561d496ee5866bbeea4d3a850b3b545ed854f8a21007c1e0d872e94d/textwrap3-0.9.2-py2.py3-none-any.whl\n",
            "Requirement already satisfied: python-dateutil>=2.1 in /usr/local/lib/python3.6/dist-packages (from jupyter-client->papermill) (2.8.1)\n",
            "Requirement already satisfied: traitlets in /usr/local/lib/python3.6/dist-packages (from jupyter-client->papermill) (4.3.3)\n",
            "Requirement already satisfied: tornado>=4.1 in /usr/local/lib/python3.6/dist-packages (from jupyter-client->papermill) (5.1.1)\n",
            "Requirement already satisfied: pyzmq>=13 in /usr/local/lib/python3.6/dist-packages (from jupyter-client->papermill) (17.0.0)\n",
            "Requirement already satisfied: jupyter-core>=4.6.0 in /usr/local/lib/python3.6/dist-packages (from jupyter-client->papermill) (4.6.3)\n",
            "Requirement already satisfied: ipython-genutils in /usr/local/lib/python3.6/dist-packages (from nbformat->papermill) (0.2.0)\n",
            "Requirement already satisfied: jsonschema!=2.5.0,>=2.4 in /usr/local/lib/python3.6/dist-packages (from nbformat->papermill) (2.6.0)\n",
            "Requirement already satisfied: idna<2.9,>=2.5 in /usr/local/lib/python3.6/dist-packages (from requests->papermill) (2.8)\n",
            "Requirement already satisfied: urllib3<1.25,>=1.21.1 in /usr/local/lib/python3.6/dist-packages (from requests->papermill) (1.24.3)\n",
            "Requirement already satisfied: chardet<3.1.0,>=3.0.2 in /usr/local/lib/python3.6/dist-packages (from requests->papermill) (3.0.4)\n",
            "Requirement already satisfied: certifi>=2017.4.17 in /usr/local/lib/python3.6/dist-packages (from requests->papermill) (2019.11.28)\n",
            "Requirement already satisfied: attrs>=18.1.0 in /usr/local/lib/python3.6/dist-packages (from black; python_version >= \"3.6\"->papermill) (19.3.0)\n",
            "Collecting pathspec<1,>=0.6\n",
            "  Downloading https://files.pythonhosted.org/packages/34/fa/c5cc4f796eb954b56fd1f6c7c315647b18b027e0736c9ae87b73bbb1f933/pathspec-0.7.0-py2.py3-none-any.whl\n",
            "Requirement already satisfied: toml>=0.9.4 in /usr/local/lib/python3.6/dist-packages (from black; python_version >= \"3.6\"->papermill) (0.10.0)\n",
            "Requirement already satisfied: regex in /usr/local/lib/python3.6/dist-packages (from black; python_version >= \"3.6\"->papermill) (2019.12.20)\n",
            "Collecting appdirs\n",
            "  Downloading https://files.pythonhosted.org/packages/56/eb/810e700ed1349edde4cbdc1b2a21e28cdf115f9faf263f6bbf8447c1abf3/appdirs-1.4.3-py2.py3-none-any.whl\n",
            "Collecting typed-ast>=1.4.0\n",
            "\u001b[?25l  Downloading https://files.pythonhosted.org/packages/90/ed/5459080d95eb87a02fe860d447197be63b6e2b5e9ff73c2b0a85622994f4/typed_ast-1.4.1-cp36-cp36m-manylinux1_x86_64.whl (737kB)\n",
            "\u001b[K     |████████████████████████████████| 747kB 3.7MB/s \n",
            "\u001b[?25hRequirement already satisfied: decorator in /usr/local/lib/python3.6/dist-packages (from traitlets->jupyter-client->papermill) (4.4.2)\n",
            "Installing collected packages: tenacity, textwrap3, ansiwrap, pathspec, appdirs, typed-ast, black, nbclient, papermill\n",
            "Successfully installed ansiwrap-0.8.4 appdirs-1.4.3 black-19.10b0 nbclient-0.1.0 papermill-2.0.0 pathspec-0.7.0 tenacity-6.1.0 textwrap3-0.9.2 typed-ast-1.4.1\n"
          ],
          "name": "stdout"
        }
      ]
    },
    {
      "cell_type": "code",
      "metadata": {
        "colab_type": "code",
        "id": "kRq5LMbBUVjN",
        "outputId": "96001b1c-5a52-4d19-fd5c-c6eb8454f035",
        "colab": {
          "base_uri": "https://localhost:8080/",
          "height": 34
        }
      },
      "source": [
        "!pip install -q \"tensorflow>=1.7\" \"tensorflow-hub\" \"imageio\""
      ],
      "execution_count": 33,
      "outputs": [
        {
          "output_type": "stream",
          "text": [
            "\u001b[31mERROR: streamlit 0.57.1 has requirement cachetools>=4.0, but you'll have cachetools 3.1.1 which is incompatible.\u001b[0m\n"
          ],
          "name": "stdout"
        }
      ]
    },
    {
      "cell_type": "code",
      "metadata": {
        "colab_type": "code",
        "id": "UK-ZpfBtV5bg",
        "outputId": "d0e3a324-8852-4a98-d596-30e58f148b26",
        "colab": {
          "base_uri": "https://localhost:8080/",
          "height": 207
        }
      },
      "source": [
        "!pip install \"git+https://github.com/microsoft/recommenders\""
      ],
      "execution_count": 34,
      "outputs": [
        {
          "output_type": "stream",
          "text": [
            "Collecting git+https://github.com/microsoft/recommenders\n",
            "  Cloning https://github.com/microsoft/recommenders to /tmp/pip-req-build-vmjwzu2a\n",
            "  Running command git clone -q https://github.com/microsoft/recommenders /tmp/pip-req-build-vmjwzu2a\n",
            "Building wheels for collected packages: reco-utils\n",
            "  Building wheel for reco-utils (setup.py) ... \u001b[?25l\u001b[?25hdone\n",
            "  Created wheel for reco-utils: filename=reco_utils-2019.9-cp36-none-any.whl size=131250 sha256=0afd7effce86b7872b164936ae5afafe0b7c25d5db2b8813f1d527fac5c77d31\n",
            "  Stored in directory: /tmp/pip-ephem-wheel-cache-hhreso98/wheels/b4/1c/70/c3f6005781b2b5a3370ec55bdd75c10ed1b07456bdfb1a0524\n",
            "Successfully built reco-utils\n",
            "Installing collected packages: reco-utils\n",
            "Successfully installed reco-utils-2019.9\n"
          ],
          "name": "stdout"
        }
      ]
    },
    {
      "cell_type": "code",
      "metadata": {
        "colab_type": "code",
        "id": "rg6HI0yrT0Ks",
        "colab": {}
      },
      "source": [
        "#load libraries\n",
        "\n",
        "from __future__ import print_function\n",
        "from __future__ import absolute_import\n",
        "from __future__ import division\n",
        "\n",
        "# set the environment path to find Recommenders\n",
        "import sys\n",
        "sys.path.append(\"../../\")\n",
        "\n",
        "import os\n",
        "import numpy as np\n",
        "import pandas as pd\n",
        "import matplotlib.pyplot as plt\n",
        "%matplotlib inline\n",
        "\n",
        "#import papermill as pm\n",
        "\n",
        "from reco_utils.recommender.rbm.rbm import RBM\n",
        "from reco_utils.dataset.python_splitters import numpy_stratified_split\n",
        "from reco_utils.dataset.sparse import AffinityMatrix\n",
        "\n",
        "\n",
        "from reco_utils.dataset import movielens\n",
        "from reco_utils.evaluation.python_evaluation import map_at_k, ndcg_at_k, precision_at_k, recall_at_k"
      ],
      "execution_count": 0,
      "outputs": []
    },
    {
      "cell_type": "code",
      "metadata": {
        "id": "i11WwQHfpoXI",
        "colab_type": "code",
        "colab": {}
      },
      "source": [
        "electronics_data = pd.read_csv('SnackBars.csv')"
      ],
      "execution_count": 0,
      "outputs": []
    },
    {
      "cell_type": "code",
      "metadata": {
        "id": "hw7OHZZEXm7Z",
        "colab_type": "code",
        "outputId": "afe956c5-5be9-4bf1-ad5a-45eb954b113f",
        "colab": {
          "base_uri": "https://localhost:8080/",
          "height": 204
        }
      },
      "source": [
        "electronics_data.head()"
      ],
      "execution_count": 0,
      "outputs": [
        {
          "output_type": "execute_result",
          "data": {
            "text/html": [
              "<div>\n",
              "<style scoped>\n",
              "    .dataframe tbody tr th:only-of-type {\n",
              "        vertical-align: middle;\n",
              "    }\n",
              "\n",
              "    .dataframe tbody tr th {\n",
              "        vertical-align: top;\n",
              "    }\n",
              "\n",
              "    .dataframe thead th {\n",
              "        text-align: right;\n",
              "    }\n",
              "</style>\n",
              "<table border=\"1\" class=\"dataframe\">\n",
              "  <thead>\n",
              "    <tr style=\"text-align: right;\">\n",
              "      <th></th>\n",
              "      <th>UserId</th>\n",
              "      <th>Rating</th>\n",
              "      <th>Timestamp</th>\n",
              "      <th>Snack_Sub_Name</th>\n",
              "      <th>Price</th>\n",
              "      <th>Snack Subscription ID</th>\n",
              "      <th>Calories Kcal</th>\n",
              "      <th>Protien g</th>\n",
              "      <th>Fat g</th>\n",
              "    </tr>\n",
              "  </thead>\n",
              "  <tbody>\n",
              "    <tr>\n",
              "      <th>0</th>\n",
              "      <td>AKM1MP6P0OYPR</td>\n",
              "      <td>5.0</td>\n",
              "      <td>1365811200</td>\n",
              "      <td>MunchPak</td>\n",
              "      <td>22.50</td>\n",
              "      <td>970407998</td>\n",
              "      <td>429</td>\n",
              "      <td>4</td>\n",
              "      <td>18</td>\n",
              "    </tr>\n",
              "    <tr>\n",
              "      <th>1</th>\n",
              "      <td>A2CX7LUOHB2NDG</td>\n",
              "      <td>5.0</td>\n",
              "      <td>1341100800</td>\n",
              "      <td>Candy Club</td>\n",
              "      <td>22.95</td>\n",
              "      <td>899336795</td>\n",
              "      <td>520</td>\n",
              "      <td>3</td>\n",
              "      <td>13</td>\n",
              "    </tr>\n",
              "    <tr>\n",
              "      <th>2</th>\n",
              "      <td>A2NWSAGRHCP8N5</td>\n",
              "      <td>1.0</td>\n",
              "      <td>1367193600</td>\n",
              "      <td>NatureBox</td>\n",
              "      <td>9.95</td>\n",
              "      <td>594481902</td>\n",
              "      <td>315</td>\n",
              "      <td>14</td>\n",
              "      <td>8</td>\n",
              "    </tr>\n",
              "    <tr>\n",
              "      <th>3</th>\n",
              "      <td>A2WNBOD3WNDNKT</td>\n",
              "      <td>3.0</td>\n",
              "      <td>1374451200</td>\n",
              "      <td>Bokksu</td>\n",
              "      <td>39.00</td>\n",
              "      <td>594481813</td>\n",
              "      <td>540</td>\n",
              "      <td>8</td>\n",
              "      <td>9</td>\n",
              "    </tr>\n",
              "    <tr>\n",
              "      <th>4</th>\n",
              "      <td>A1GI0U4ZRJA8WN</td>\n",
              "      <td>1.0</td>\n",
              "      <td>1334707200</td>\n",
              "      <td>MunchPak</td>\n",
              "      <td>9.95</td>\n",
              "      <td>594451647</td>\n",
              "      <td>520</td>\n",
              "      <td>3</td>\n",
              "      <td>18</td>\n",
              "    </tr>\n",
              "  </tbody>\n",
              "</table>\n",
              "</div>"
            ],
            "text/plain": [
              "           UserId  Rating   Timestamp  ... Calories Kcal  Protien g  Fat g\n",
              "0   AKM1MP6P0OYPR     5.0  1365811200  ...           429          4     18\n",
              "1  A2CX7LUOHB2NDG     5.0  1341100800  ...           520          3     13\n",
              "2  A2NWSAGRHCP8N5     1.0  1367193600  ...           315         14      8\n",
              "3  A2WNBOD3WNDNKT     3.0  1374451200  ...           540          8      9\n",
              "4  A1GI0U4ZRJA8WN     1.0  1334707200  ...           520          3     18\n",
              "\n",
              "[5 rows x 9 columns]"
            ]
          },
          "metadata": {
            "tags": []
          },
          "execution_count": 56
        }
      ]
    },
    {
      "cell_type": "code",
      "metadata": {
        "id": "IL3JaEwEadGo",
        "colab_type": "code",
        "colab": {}
      },
      "source": [
        "# Convert to 32-bit in order to reduce memory consumption \n",
        "electronics_data.loc[:, 'Rating'] = electronics_data['Rating'].astype(np.int32)\n",
        "electronics_data.loc[:, 'Price'] = electronics_data['Price'].astype(np.int32) "
      ],
      "execution_count": 0,
      "outputs": []
    },
    {
      "cell_type": "code",
      "metadata": {
        "colab_type": "code",
        "id": "uxr72D3eHtK1",
        "colab": {}
      },
      "source": [
        "\n",
        "#to use standard names across the analysis \n",
        "# header = {\n",
        "#         \"col_user\": \"userID\",\n",
        "#         #\"col_Product\": \"Product_ID\",\n",
        "#         \"col_snacksubscription\": \"Snack Subscription ID\",\n",
        "#           \"col_Price\": \"Price\",\n",
        "#         \"col_calories\": \"Calories Kcal\",\n",
        "#          \"col_Protien\": \"Protien g\",\n",
        "#            \"col_Price\": \"Fat g\",\n",
        "#         \"col_rating\": \"Rating\",\n",
        "#     }\n",
        "\n",
        "\n",
        "header = {\n",
        "        \"col_user\": \"UserId\",\n",
        "        \"col_item\": \"Snack Subscription ID\",\n",
        "        \"col_rating\": \"Rating\",\n",
        "        #\"col_rating\": \"Price\",\n",
        "    }\n",
        "\n",
        "#instantiate the sparse matrix generation  \n",
        "am = AffinityMatrix(DF = electronics_data, **header)\n",
        "\n",
        "#obtain the sparse matrix \n",
        "X = am.gen_affinity_matrix()"
      ],
      "execution_count": 0,
      "outputs": []
    },
    {
      "cell_type": "code",
      "metadata": {
        "colab_type": "code",
        "id": "goFMUJUfToJE",
        "outputId": "021cd007-6fab-49cd-8812-1ea6d3e7d65c",
        "colab": {
          "base_uri": "https://localhost:8080/",
          "height": 187
        }
      },
      "source": [
        "electronics_data.dtypes"
      ],
      "execution_count": 0,
      "outputs": [
        {
          "output_type": "execute_result",
          "data": {
            "text/plain": [
              "UserId                   object\n",
              "Rating                    int32\n",
              "Timestamp                 int64\n",
              "Snack_Sub_Name           object\n",
              "Price                     int32\n",
              "Snack Subscription ID     int64\n",
              "Calories Kcal             int64\n",
              "Protien g                 int64\n",
              "Fat g                     int64\n",
              "dtype: object"
            ]
          },
          "metadata": {
            "tags": []
          },
          "execution_count": 60
        }
      ]
    },
    {
      "cell_type": "code",
      "metadata": {
        "id": "cLBDwRj2adG5",
        "colab_type": "code",
        "colab": {}
      },
      "source": [
        "Xtr, Xtst = numpy_stratified_split(X)"
      ],
      "execution_count": 0,
      "outputs": []
    },
    {
      "cell_type": "code",
      "metadata": {
        "id": "zsoLT4MSadHC",
        "colab_type": "code",
        "outputId": "2becbdfe-199e-4c38-8ea4-fb166c4049b5",
        "colab": {
          "base_uri": "https://localhost:8080/",
          "height": 51
        }
      },
      "source": [
        "print('train matrix size', Xtr.shape)\n",
        "print('test matrix size', Xtst.shape)"
      ],
      "execution_count": 0,
      "outputs": [
        {
          "output_type": "stream",
          "text": [
            "train matrix size (10296, 16)\n",
            "test matrix size (10296, 16)\n"
          ],
          "name": "stdout"
        }
      ]
    },
    {
      "cell_type": "code",
      "metadata": {
        "id": "tgr4F3VladHL",
        "colab_type": "code",
        "outputId": "148ab185-7d11-41fc-c7a8-f698dd8336d5",
        "colab": {
          "base_uri": "https://localhost:8080/",
          "height": 71
        }
      },
      "source": [
        "#First we initialize the model class\n",
        "model = RBM(hidden_units= 600, training_epoch = 30, minibatch_size= 60, keep_prob=0.9,with_metrics =True)"
      ],
      "execution_count": 0,
      "outputs": [
        {
          "output_type": "stream",
          "text": [
            "WARNING:tensorflow:From /usr/local/lib/python3.6/dist-packages/reco_utils/recommender/rbm/rbm.py:108: The name tf.set_random_seed is deprecated. Please use tf.compat.v1.set_random_seed instead.\n",
            "\n"
          ],
          "name": "stdout"
        }
      ]
    },
    {
      "cell_type": "code",
      "metadata": {
        "id": "_jInZjlhadHO",
        "colab_type": "code",
        "outputId": "95ad0f30-6dfa-4d40-8a26-c5afee5e592f",
        "colab": {
          "base_uri": "https://localhost:8080/",
          "height": 966
        }
      },
      "source": [
        "#Model Fit\n",
        "train_time= model.fit(Xtr, Xtst)"
      ],
      "execution_count": 0,
      "outputs": [
        {
          "output_type": "stream",
          "text": [
            "WARNING:tensorflow:From /usr/local/lib/python3.6/dist-packages/reco_utils/recommender/rbm/rbm.py:690: The name tf.reset_default_graph is deprecated. Please use tf.compat.v1.reset_default_graph instead.\n",
            "\n",
            "WARNING:tensorflow:From /usr/local/lib/python3.6/dist-packages/reco_utils/recommender/rbm/rbm.py:240: The name tf.placeholder is deprecated. Please use tf.compat.v1.placeholder instead.\n",
            "\n",
            "WARNING:tensorflow:From /tensorflow-1.15.2/python3.6/tensorflow_core/python/data/util/random_seed.py:58: where (from tensorflow.python.ops.array_ops) is deprecated and will be removed in a future version.\n",
            "Instructions for updating:\n",
            "Use tf.where in 2.0, which has the same broadcast rule as np.where\n",
            "WARNING:tensorflow:From /usr/local/lib/python3.6/dist-packages/reco_utils/recommender/rbm/rbm.py:522: DatasetV1.make_initializable_iterator (from tensorflow.python.data.ops.dataset_ops) is deprecated and will be removed in a future version.\n",
            "Instructions for updating:\n",
            "Use `for ... in dataset:` to iterate over a dataset. If using `tf.estimator`, return the `Dataset` object directly from your input function. As a last resort, you can use `tf.compat.v1.data.make_initializable_iterator(dataset)`.\n",
            "WARNING:tensorflow:From /usr/local/lib/python3.6/dist-packages/reco_utils/recommender/rbm/rbm.py:258: The name tf.variable_scope is deprecated. Please use tf.compat.v1.variable_scope instead.\n",
            "\n",
            "WARNING:tensorflow:From /usr/local/lib/python3.6/dist-packages/reco_utils/recommender/rbm/rbm.py:260: The name tf.get_variable is deprecated. Please use tf.compat.v1.get_variable instead.\n",
            "\n",
            "WARNING:tensorflow:From /usr/local/lib/python3.6/dist-packages/reco_utils/recommender/rbm/rbm.py:304: calling dropout (from tensorflow.python.ops.nn_ops) with keep_prob is deprecated and will be removed in a future version.\n",
            "Instructions for updating:\n",
            "Please use `rate` instead of `keep_prob`. Rate should be set to `rate = 1 - keep_prob`.\n",
            "WARNING:tensorflow:From /usr/local/lib/python3.6/dist-packages/reco_utils/recommender/rbm/rbm.py:214: div (from tensorflow.python.ops.math_ops) is deprecated and will be removed in a future version.\n",
            "Instructions for updating:\n",
            "Deprecated in favor of operator or tf.math.divide.\n",
            "WARNING:tensorflow:\n",
            "The TensorFlow contrib module will not be included in TensorFlow 2.0.\n",
            "For more information, please see:\n",
            "  * https://github.com/tensorflow/community/blob/master/rfcs/20180907-contrib-sunset.md\n",
            "  * https://github.com/tensorflow/addons\n",
            "  * https://github.com/tensorflow/io (for I/O related ops)\n",
            "If you depend on functionality not listed there, please file an issue.\n",
            "\n",
            "WARNING:tensorflow:From /usr/local/lib/python3.6/dist-packages/reco_utils/recommender/rbm/rbm.py:496: The name tf.squared_difference is deprecated. Please use tf.math.squared_difference instead.\n",
            "\n",
            "WARNING:tensorflow:From /usr/local/lib/python3.6/dist-packages/reco_utils/recommender/rbm/rbm.py:610: The name tf.ConfigProto is deprecated. Please use tf.compat.v1.ConfigProto instead.\n",
            "\n",
            "WARNING:tensorflow:From /usr/local/lib/python3.6/dist-packages/reco_utils/recommender/rbm/rbm.py:622: The name tf.global_variables_initializer is deprecated. Please use tf.compat.v1.global_variables_initializer instead.\n",
            "\n",
            "WARNING:tensorflow:From /usr/local/lib/python3.6/dist-packages/reco_utils/recommender/rbm/rbm.py:625: The name tf.Session is deprecated. Please use tf.compat.v1.Session instead.\n",
            "\n",
            "Device mapping:\n",
            "/job:localhost/replica:0/task:0/device:XLA_CPU:0 -> device: XLA_CPU device\n",
            "\n"
          ],
          "name": "stdout"
        },
        {
          "output_type": "display_data",
          "data": {
            "image/png": "[encoded data removed]",
            "text/plain": [
              "<Figure size 432x288 with 1 Axes>"
            ]
          },
          "metadata": {
            "tags": []
          }
        }
      ]
    },
    {
      "cell_type": "code",
      "metadata": {
        "id": "awKJ6UzHcKzF",
        "colab_type": "code",
        "colab": {}
      },
      "source": [
        "#number of top score elements to be recommended  \n",
        "K = 10\n",
        "\n",
        "#Model prediction on the test set Xtst. \n",
        "top_k, test_time =  model.recommend_k_items(Xtst)"
      ],
      "execution_count": 0,
      "outputs": []
    },
    {
      "cell_type": "code",
      "metadata": {
        "id": "0ETeLipKcPed",
        "colab_type": "code",
        "colab": {}
      },
      "source": [
        "top_k_df = am.map_back_sparse(top_k, kind = 'prediction')\n",
        "test_df = am.map_back_sparse(Xtst, kind = 'ratings')"
      ],
      "execution_count": 0,
      "outputs": []
    },
    {
      "cell_type": "code",
      "metadata": {
        "id": "n_cfTIYOcST-",
        "colab_type": "code",
        "outputId": "bf7dbfe9-2be4-4f03-9761-aacbb0edb40b",
        "colab": {
          "base_uri": "https://localhost:8080/",
          "height": 669
        }
      },
      "source": [
        "top_k_df.head(20)"
      ],
      "execution_count": 0,
      "outputs": [
        {
          "output_type": "execute_result",
          "data": {
            "text/html": [
              "<div>\n",
              "<style scoped>\n",
              "    .dataframe tbody tr th:only-of-type {\n",
              "        vertical-align: middle;\n",
              "    }\n",
              "\n",
              "    .dataframe tbody tr th {\n",
              "        vertical-align: top;\n",
              "    }\n",
              "\n",
              "    .dataframe thead th {\n",
              "        text-align: right;\n",
              "    }\n",
              "</style>\n",
              "<table border=\"1\" class=\"dataframe\">\n",
              "  <thead>\n",
              "    <tr style=\"text-align: right;\">\n",
              "      <th></th>\n",
              "      <th>UserId</th>\n",
              "      <th>Snack Subscription ID</th>\n",
              "      <th>prediction</th>\n",
              "    </tr>\n",
              "  </thead>\n",
              "  <tbody>\n",
              "    <tr>\n",
              "      <th>0</th>\n",
              "      <td>A00766851QZZUBOVF4JFT</td>\n",
              "      <td>558835155</td>\n",
              "      <td>0.844025</td>\n",
              "    </tr>\n",
              "    <tr>\n",
              "      <th>1</th>\n",
              "      <td>A00766851QZZUBOVF4JFT</td>\n",
              "      <td>439886341</td>\n",
              "      <td>0.775465</td>\n",
              "    </tr>\n",
              "    <tr>\n",
              "      <th>2</th>\n",
              "      <td>A00766851QZZUBOVF4JFT</td>\n",
              "      <td>972683275</td>\n",
              "      <td>0.891948</td>\n",
              "    </tr>\n",
              "    <tr>\n",
              "      <th>3</th>\n",
              "      <td>A00766851QZZUBOVF4JFT</td>\n",
              "      <td>594482127</td>\n",
              "      <td>0.829014</td>\n",
              "    </tr>\n",
              "    <tr>\n",
              "      <th>4</th>\n",
              "      <td>A00766851QZZUBOVF4JFT</td>\n",
              "      <td>594451647</td>\n",
              "      <td>0.808418</td>\n",
              "    </tr>\n",
              "    <tr>\n",
              "      <th>5</th>\n",
              "      <td>A00766851QZZUBOVF4JFT</td>\n",
              "      <td>594481813</td>\n",
              "      <td>0.769359</td>\n",
              "    </tr>\n",
              "    <tr>\n",
              "      <th>6</th>\n",
              "      <td>A00766851QZZUBOVF4JFT</td>\n",
              "      <td>594012015</td>\n",
              "      <td>0.748198</td>\n",
              "    </tr>\n",
              "    <tr>\n",
              "      <th>7</th>\n",
              "      <td>A00766851QZZUBOVF4JFT</td>\n",
              "      <td>321732944</td>\n",
              "      <td>0.754990</td>\n",
              "    </tr>\n",
              "    <tr>\n",
              "      <th>8</th>\n",
              "      <td>A00766851QZZUBOVF4JFT</td>\n",
              "      <td>899336795</td>\n",
              "      <td>0.888337</td>\n",
              "    </tr>\n",
              "    <tr>\n",
              "      <th>9</th>\n",
              "      <td>A00766851QZZUBOVF4JFT</td>\n",
              "      <td>594477670</td>\n",
              "      <td>0.797180</td>\n",
              "    </tr>\n",
              "    <tr>\n",
              "      <th>10</th>\n",
              "      <td>A01255851ZO1U93P8RKGE</td>\n",
              "      <td>594511488</td>\n",
              "      <td>0.949717</td>\n",
              "    </tr>\n",
              "    <tr>\n",
              "      <th>11</th>\n",
              "      <td>A01255851ZO1U93P8RKGE</td>\n",
              "      <td>439886341</td>\n",
              "      <td>0.765479</td>\n",
              "    </tr>\n",
              "    <tr>\n",
              "      <th>12</th>\n",
              "      <td>A01255851ZO1U93P8RKGE</td>\n",
              "      <td>972683275</td>\n",
              "      <td>0.855879</td>\n",
              "    </tr>\n",
              "    <tr>\n",
              "      <th>13</th>\n",
              "      <td>A01255851ZO1U93P8RKGE</td>\n",
              "      <td>594482127</td>\n",
              "      <td>0.777338</td>\n",
              "    </tr>\n",
              "    <tr>\n",
              "      <th>14</th>\n",
              "      <td>A01255851ZO1U93P8RKGE</td>\n",
              "      <td>594451647</td>\n",
              "      <td>0.736931</td>\n",
              "    </tr>\n",
              "    <tr>\n",
              "      <th>15</th>\n",
              "      <td>A01255851ZO1U93P8RKGE</td>\n",
              "      <td>594481813</td>\n",
              "      <td>0.807268</td>\n",
              "    </tr>\n",
              "    <tr>\n",
              "      <th>16</th>\n",
              "      <td>A01255851ZO1U93P8RKGE</td>\n",
              "      <td>594012015</td>\n",
              "      <td>0.753061</td>\n",
              "    </tr>\n",
              "    <tr>\n",
              "      <th>17</th>\n",
              "      <td>A01255851ZO1U93P8RKGE</td>\n",
              "      <td>899336795</td>\n",
              "      <td>0.820788</td>\n",
              "    </tr>\n",
              "    <tr>\n",
              "      <th>18</th>\n",
              "      <td>A01255851ZO1U93P8RKGE</td>\n",
              "      <td>594477670</td>\n",
              "      <td>0.850369</td>\n",
              "    </tr>\n",
              "    <tr>\n",
              "      <th>19</th>\n",
              "      <td>A01255851ZO1U93P8RKGE</td>\n",
              "      <td>528881469</td>\n",
              "      <td>0.638516</td>\n",
              "    </tr>\n",
              "  </tbody>\n",
              "</table>\n",
              "</div>"
            ],
            "text/plain": [
              "                   UserId  Snack Subscription ID  prediction\n",
              "0   A00766851QZZUBOVF4JFT              558835155    0.844025\n",
              "1   A00766851QZZUBOVF4JFT              439886341    0.775465\n",
              "2   A00766851QZZUBOVF4JFT              972683275    0.891948\n",
              "3   A00766851QZZUBOVF4JFT              594482127    0.829014\n",
              "4   A00766851QZZUBOVF4JFT              594451647    0.808418\n",
              "5   A00766851QZZUBOVF4JFT              594481813    0.769359\n",
              "6   A00766851QZZUBOVF4JFT              594012015    0.748198\n",
              "7   A00766851QZZUBOVF4JFT              321732944    0.754990\n",
              "8   A00766851QZZUBOVF4JFT              899336795    0.888337\n",
              "9   A00766851QZZUBOVF4JFT              594477670    0.797180\n",
              "10  A01255851ZO1U93P8RKGE              594511488    0.949717\n",
              "11  A01255851ZO1U93P8RKGE              439886341    0.765479\n",
              "12  A01255851ZO1U93P8RKGE              972683275    0.855879\n",
              "13  A01255851ZO1U93P8RKGE              594482127    0.777338\n",
              "14  A01255851ZO1U93P8RKGE              594451647    0.736931\n",
              "15  A01255851ZO1U93P8RKGE              594481813    0.807268\n",
              "16  A01255851ZO1U93P8RKGE              594012015    0.753061\n",
              "17  A01255851ZO1U93P8RKGE              899336795    0.820788\n",
              "18  A01255851ZO1U93P8RKGE              594477670    0.850369\n",
              "19  A01255851ZO1U93P8RKGE              528881469    0.638516"
            ]
          },
          "metadata": {
            "tags": []
          },
          "execution_count": 67
        }
      ]
    },
    {
      "cell_type": "code",
      "metadata": {
        "id": "ItYvWpeHcVEf",
        "colab_type": "code",
        "outputId": "92d0e398-2329-488f-b7a2-1bb7ff0f2d14",
        "colab": {
          "base_uri": "https://localhost:8080/",
          "height": 1000
        }
      },
      "source": [
        "!pip install streamlit"
      ],
      "execution_count": 31,
      "outputs": [
        {
          "output_type": "stream",
          "text": [
            "Collecting streamlit\n",
            "\u001b[?25l  Downloading https://files.pythonhosted.org/packages/42/04/63108fe81fa7da7f4bbdf04cf4fa9c5d6a5d6f6df358dcf25de206fddc25/streamlit-0.57.1-py2.py3-none-any.whl (7.1MB)\n",
            "\u001b[K     |████████████████████████████████| 7.1MB 1.4MB/s \n",
            "\u001b[?25hCollecting blinker\n",
            "\u001b[?25l  Downloading https://files.pythonhosted.org/packages/1b/51/e2a9f3b757eb802f61dc1f2b09c8c99f6eb01cf06416c0671253536517b6/blinker-1.4.tar.gz (111kB)\n",
            "\u001b[K     |████████████████████████████████| 112kB 31.0MB/s \n",
            "\u001b[?25hCollecting tornado<6.0,>=5.0\n",
            "\u001b[?25l  Downloading https://files.pythonhosted.org/packages/e6/78/6e7b5af12c12bdf38ca9bfe863fcaf53dc10430a312d0324e76c1e5ca426/tornado-5.1.1.tar.gz (516kB)\n",
            "\u001b[K     |████████████████████████████████| 522kB 39.4MB/s \n",
            "\u001b[?25hRequirement already satisfied: pillow>=6.2.0 in /usr/local/lib/python3.6/dist-packages (from streamlit) (7.0.0)\n",
            "Requirement already satisfied: pandas>=0.21.0 in /usr/local/lib/python3.6/dist-packages (from streamlit) (0.25.3)\n",
            "Collecting watchdog\n",
            "\u001b[?25l  Downloading https://files.pythonhosted.org/packages/73/c3/ed6d992006837e011baca89476a4bbffb0a91602432f73bd4473816c76e2/watchdog-0.10.2.tar.gz (95kB)\n",
            "\u001b[K     |████████████████████████████████| 102kB 12.6MB/s \n",
            "\u001b[?25hRequirement already satisfied: tzlocal in /usr/local/lib/python3.6/dist-packages (from streamlit) (1.5.1)\n",
            "Requirement already satisfied: future in /usr/local/lib/python3.6/dist-packages (from streamlit) (0.16.0)\n",
            "Requirement already satisfied: python-dateutil in /usr/local/lib/python3.6/dist-packages (from streamlit) (2.8.1)\n",
            "Collecting toml\n",
            "  Downloading https://files.pythonhosted.org/packages/a2/12/ced7105d2de62fa7c8fb5fce92cc4ce66b57c95fb875e9318dba7f8c5db0/toml-0.10.0-py2.py3-none-any.whl\n",
            "Collecting base58\n",
            "  Downloading https://files.pythonhosted.org/packages/ac/03/52b4d529a1ba2f006be395a1b9ff6e1ab83875b84e1dc67343362edaff05/base58-2.0.0-py3-none-any.whl\n",
            "Collecting enum-compat\n",
            "  Downloading https://files.pythonhosted.org/packages/55/ae/467bc4509246283bb59746e21a1a2f5a8aecbef56b1fa6eaca78cd438c8b/enum_compat-0.0.3-py3-none-any.whl\n",
            "Requirement already satisfied: requests in /usr/local/lib/python3.6/dist-packages (from streamlit) (2.21.0)\n",
            "Collecting validators\n",
            "  Downloading https://files.pythonhosted.org/packages/4d/56/9b48c918ef118ea12b90f227c4498ed4703b418bdd8fb49479dfcbeae4ef/validators-0.14.2.tar.gz\n",
            "Requirement already satisfied: packaging in /usr/local/lib/python3.6/dist-packages (from streamlit) (20.3)\n",
            "Collecting pydeck>=0.1.dev5\n",
            "\u001b[?25l  Downloading https://files.pythonhosted.org/packages/db/63/f914df895d78d032fb9a2f4b5071ae9eb2bfc728eead07aa66e239620545/pydeck-0.3.0b3-py2.py3-none-any.whl (5.3MB)\n",
            "\u001b[K     |████████████████████████████████| 5.3MB 27.6MB/s \n",
            "\u001b[?25hRequirement already satisfied: botocore>=1.13.44 in /usr/local/lib/python3.6/dist-packages (from streamlit) (1.15.27)\n",
            "Requirement already satisfied: click>=7.0 in /usr/local/lib/python3.6/dist-packages (from streamlit) (7.1.1)\n",
            "Requirement already satisfied: altair>=3.2.0 in /usr/local/lib/python3.6/dist-packages (from streamlit) (4.0.1)\n",
            "Requirement already satisfied: astor in /usr/local/lib/python3.6/dist-packages (from streamlit) (0.8.1)\n",
            "Requirement already satisfied: numpy in /usr/local/lib/python3.6/dist-packages (from streamlit) (1.18.2)\n",
            "Requirement already satisfied: protobuf>=3.6.0 in /usr/local/lib/python3.6/dist-packages (from streamlit) (3.10.0)\n",
            "Requirement already satisfied: boto3 in /usr/local/lib/python3.6/dist-packages (from streamlit) (1.12.27)\n",
            "Collecting cachetools>=4.0\n",
            "  Downloading https://files.pythonhosted.org/packages/08/6a/abf83cb951617793fd49c98cb9456860f5df66ff89883c8660aa0672d425/cachetools-4.0.0-py3-none-any.whl\n",
            "Requirement already satisfied: pytz>=2017.2 in /usr/local/lib/python3.6/dist-packages (from pandas>=0.21.0->streamlit) (2018.9)\n",
            "Collecting pathtools>=0.1.1\n",
            "  Downloading https://files.pythonhosted.org/packages/e7/7f/470d6fcdf23f9f3518f6b0b76be9df16dcc8630ad409947f8be2eb0ed13a/pathtools-0.1.2.tar.gz\n",
            "Requirement already satisfied: six>=1.5 in /usr/local/lib/python3.6/dist-packages (from python-dateutil->streamlit) (1.12.0)\n",
            "Requirement already satisfied: certifi>=2017.4.17 in /usr/local/lib/python3.6/dist-packages (from requests->streamlit) (2019.11.28)\n",
            "Requirement already satisfied: urllib3<1.25,>=1.21.1 in /usr/local/lib/python3.6/dist-packages (from requests->streamlit) (1.24.3)\n",
            "Requirement already satisfied: idna<2.9,>=2.5 in /usr/local/lib/python3.6/dist-packages (from requests->streamlit) (2.8)\n",
            "Requirement already satisfied: chardet<3.1.0,>=3.0.2 in /usr/local/lib/python3.6/dist-packages (from requests->streamlit) (3.0.4)\n",
            "Requirement already satisfied: decorator>=3.4.0 in /usr/local/lib/python3.6/dist-packages (from validators->streamlit) (4.4.2)\n",
            "Requirement already satisfied: pyparsing>=2.0.2 in /usr/local/lib/python3.6/dist-packages (from packaging->streamlit) (2.4.6)\n",
            "Requirement already satisfied: ipywidgets>=7.0.0 in /usr/local/lib/python3.6/dist-packages (from pydeck>=0.1.dev5->streamlit) (7.5.1)\n",
            "Requirement already satisfied: traitlets>=4.3.2 in /usr/local/lib/python3.6/dist-packages (from pydeck>=0.1.dev5->streamlit) (4.3.3)\n",
            "Collecting ipykernel>=5.1.2; python_version >= \"3.4\"\n",
            "\u001b[?25l  Downloading https://files.pythonhosted.org/packages/78/13/cc35fa7aef711d1b384ed8cf4304d1b16c38d8f91c1e8fb1466eae96f828/ipykernel-5.2.0-py3-none-any.whl (117kB)\n",
            "\u001b[K     |████████████████████████████████| 122kB 43.0MB/s \n",
            "\u001b[?25hRequirement already satisfied: jinja2>=2.10.1 in /usr/local/lib/python3.6/dist-packages (from pydeck>=0.1.dev5->streamlit) (2.11.1)\n",
            "Requirement already satisfied: jmespath<1.0.0,>=0.7.1 in /usr/local/lib/python3.6/dist-packages (from botocore>=1.13.44->streamlit) (0.9.5)\n",
            "Requirement already satisfied: docutils<0.16,>=0.10 in /usr/local/lib/python3.6/dist-packages (from botocore>=1.13.44->streamlit) (0.15.2)\n",
            "Requirement already satisfied: toolz in /usr/local/lib/python3.6/dist-packages (from altair>=3.2.0->streamlit) (0.10.0)\n",
            "Requirement already satisfied: entrypoints in /usr/local/lib/python3.6/dist-packages (from altair>=3.2.0->streamlit) (0.3)\n",
            "Requirement already satisfied: jsonschema in /usr/local/lib/python3.6/dist-packages (from altair>=3.2.0->streamlit) (2.6.0)\n",
            "Requirement already satisfied: setuptools in /usr/local/lib/python3.6/dist-packages (from protobuf>=3.6.0->streamlit) (46.0.0)\n",
            "Requirement already satisfied: s3transfer<0.4.0,>=0.3.0 in /usr/local/lib/python3.6/dist-packages (from boto3->streamlit) (0.3.3)\n",
            "Requirement already satisfied: widgetsnbextension~=3.5.0 in /usr/local/lib/python3.6/dist-packages (from ipywidgets>=7.0.0->pydeck>=0.1.dev5->streamlit) (3.5.1)\n",
            "Requirement already satisfied: ipython>=4.0.0; python_version >= \"3.3\" in /usr/local/lib/python3.6/dist-packages (from ipywidgets>=7.0.0->pydeck>=0.1.dev5->streamlit) (5.5.0)\n",
            "Requirement already satisfied: nbformat>=4.2.0 in /usr/local/lib/python3.6/dist-packages (from ipywidgets>=7.0.0->pydeck>=0.1.dev5->streamlit) (5.0.4)\n",
            "Requirement already satisfied: ipython-genutils in /usr/local/lib/python3.6/dist-packages (from traitlets>=4.3.2->pydeck>=0.1.dev5->streamlit) (0.2.0)\n",
            "Requirement already satisfied: jupyter-client in /usr/local/lib/python3.6/dist-packages (from ipykernel>=5.1.2; python_version >= \"3.4\"->pydeck>=0.1.dev5->streamlit) (5.3.4)\n",
            "Requirement already satisfied: MarkupSafe>=0.23 in /usr/local/lib/python3.6/dist-packages (from jinja2>=2.10.1->pydeck>=0.1.dev5->streamlit) (1.1.1)\n",
            "Requirement already satisfied: notebook>=4.4.1 in /usr/local/lib/python3.6/dist-packages (from widgetsnbextension~=3.5.0->ipywidgets>=7.0.0->pydeck>=0.1.dev5->streamlit) (5.2.2)\n",
            "Requirement already satisfied: simplegeneric>0.8 in /usr/local/lib/python3.6/dist-packages (from ipython>=4.0.0; python_version >= \"3.3\"->ipywidgets>=7.0.0->pydeck>=0.1.dev5->streamlit) (0.8.1)\n",
            "Requirement already satisfied: prompt-toolkit<2.0.0,>=1.0.4 in /usr/local/lib/python3.6/dist-packages (from ipython>=4.0.0; python_version >= \"3.3\"->ipywidgets>=7.0.0->pydeck>=0.1.dev5->streamlit) (1.0.18)\n",
            "Requirement already satisfied: pickleshare in /usr/local/lib/python3.6/dist-packages (from ipython>=4.0.0; python_version >= \"3.3\"->ipywidgets>=7.0.0->pydeck>=0.1.dev5->streamlit) (0.7.5)\n",
            "Requirement already satisfied: pygments in /usr/local/lib/python3.6/dist-packages (from ipython>=4.0.0; python_version >= \"3.3\"->ipywidgets>=7.0.0->pydeck>=0.1.dev5->streamlit) (2.1.3)\n",
            "Requirement already satisfied: pexpect; sys_platform != \"win32\" in /usr/local/lib/python3.6/dist-packages (from ipython>=4.0.0; python_version >= \"3.3\"->ipywidgets>=7.0.0->pydeck>=0.1.dev5->streamlit) (4.8.0)\n",
            "Requirement already satisfied: jupyter-core in /usr/local/lib/python3.6/dist-packages (from nbformat>=4.2.0->ipywidgets>=7.0.0->pydeck>=0.1.dev5->streamlit) (4.6.3)\n",
            "Requirement already satisfied: pyzmq>=13 in /usr/local/lib/python3.6/dist-packages (from jupyter-client->ipykernel>=5.1.2; python_version >= \"3.4\"->pydeck>=0.1.dev5->streamlit) (17.0.0)\n",
            "Requirement already satisfied: terminado>=0.3.3; sys_platform != \"win32\" in /usr/local/lib/python3.6/dist-packages (from notebook>=4.4.1->widgetsnbextension~=3.5.0->ipywidgets>=7.0.0->pydeck>=0.1.dev5->streamlit) (0.8.3)\n",
            "Requirement already satisfied: nbconvert in /usr/local/lib/python3.6/dist-packages (from notebook>=4.4.1->widgetsnbextension~=3.5.0->ipywidgets>=7.0.0->pydeck>=0.1.dev5->streamlit) (5.6.1)\n",
            "Requirement already satisfied: wcwidth in /usr/local/lib/python3.6/dist-packages (from prompt-toolkit<2.0.0,>=1.0.4->ipython>=4.0.0; python_version >= \"3.3\"->ipywidgets>=7.0.0->pydeck>=0.1.dev5->streamlit) (0.1.9)\n",
            "Requirement already satisfied: ptyprocess>=0.5 in /usr/local/lib/python3.6/dist-packages (from pexpect; sys_platform != \"win32\"->ipython>=4.0.0; python_version >= \"3.3\"->ipywidgets>=7.0.0->pydeck>=0.1.dev5->streamlit) (0.6.0)\n",
            "Requirement already satisfied: bleach in /usr/local/lib/python3.6/dist-packages (from nbconvert->notebook>=4.4.1->widgetsnbextension~=3.5.0->ipywidgets>=7.0.0->pydeck>=0.1.dev5->streamlit) (3.1.3)\n",
            "Requirement already satisfied: mistune<2,>=0.8.1 in /usr/local/lib/python3.6/dist-packages (from nbconvert->notebook>=4.4.1->widgetsnbextension~=3.5.0->ipywidgets>=7.0.0->pydeck>=0.1.dev5->streamlit) (0.8.4)\n",
            "Requirement already satisfied: testpath in /usr/local/lib/python3.6/dist-packages (from nbconvert->notebook>=4.4.1->widgetsnbextension~=3.5.0->ipywidgets>=7.0.0->pydeck>=0.1.dev5->streamlit) (0.4.4)\n",
            "Requirement already satisfied: pandocfilters>=1.4.1 in /usr/local/lib/python3.6/dist-packages (from nbconvert->notebook>=4.4.1->widgetsnbextension~=3.5.0->ipywidgets>=7.0.0->pydeck>=0.1.dev5->streamlit) (1.4.2)\n",
            "Requirement already satisfied: defusedxml in /usr/local/lib/python3.6/dist-packages (from nbconvert->notebook>=4.4.1->widgetsnbextension~=3.5.0->ipywidgets>=7.0.0->pydeck>=0.1.dev5->streamlit) (0.6.0)\n",
            "Requirement already satisfied: webencodings in /usr/local/lib/python3.6/dist-packages (from bleach->nbconvert->notebook>=4.4.1->widgetsnbextension~=3.5.0->ipywidgets>=7.0.0->pydeck>=0.1.dev5->streamlit) (0.5.1)\n",
            "Building wheels for collected packages: blinker, tornado, watchdog, validators, pathtools\n",
            "  Building wheel for blinker (setup.py) ... \u001b[?25l\u001b[?25hdone\n",
            "  Created wheel for blinker: filename=blinker-1.4-cp36-none-any.whl size=13449 sha256=bbe24676c9803e917cbdb619d78461bec9e6da54bce810b7aa2ae05b767636da\n",
            "  Stored in directory: /root/.cache/pip/wheels/92/a0/00/8690a57883956a301d91cf4ec999cc0b258b01e3f548f86e89\n",
            "  Building wheel for tornado (setup.py) ... \u001b[?25l\u001b[?25hdone\n",
            "  Created wheel for tornado: filename=tornado-5.1.1-cp36-cp36m-linux_x86_64.whl size=462319 sha256=a51bf28def0bd615a311a7847e4fef6824c7fcfb5f9bb8434b48471b85686d0f\n",
            "  Stored in directory: /root/.cache/pip/wheels/6d/e1/ce/f4ee2fa420cc6b940123c64992b81047816d0a9fad6b879325\n",
            "  Building wheel for watchdog (setup.py) ... \u001b[?25l\u001b[?25hdone\n",
            "  Created wheel for watchdog: filename=watchdog-0.10.2-cp36-none-any.whl size=73605 sha256=95a5b6bd89a4385965b86cf12510ede87d71a3a3d42162fa7e77d6ebfabdb1b1\n",
            "  Stored in directory: /root/.cache/pip/wheels/bc/ed/6c/028dea90d31b359cd2a7c8b0da4db80e41d24a59614154072e\n",
            "  Building wheel for validators (setup.py) ... \u001b[?25l\u001b[?25hdone\n",
            "  Created wheel for validators: filename=validators-0.14.2-cp36-none-any.whl size=17249 sha256=5e9bc842990bd903321c8ca99648c2005a755a10607949ad79e9b205a150dcab\n",
            "  Stored in directory: /root/.cache/pip/wheels/46/e4/bb/0c8fc33769e30e0049771579b608e6a0d4a00db8a1a29e7ce7\n",
            "  Building wheel for pathtools (setup.py) ... \u001b[?25l\u001b[?25hdone\n",
            "  Created wheel for pathtools: filename=pathtools-0.1.2-cp36-none-any.whl size=8784 sha256=d3ff445e4d309165ce710ea8473eb8c43490b8c1f491793d475607c8af8eee94\n",
            "  Stored in directory: /root/.cache/pip/wheels/0b/04/79/c3b0c3a0266a3cb4376da31e5bfe8bba0c489246968a68e843\n",
            "Successfully built blinker tornado watchdog validators pathtools\n",
            "\u001b[31mERROR: google-colab 1.0.0 has requirement ipykernel~=4.6.0, but you'll have ipykernel 5.2.0 which is incompatible.\u001b[0m\n",
            "\u001b[31mERROR: google-colab 1.0.0 has requirement tornado~=4.5.0, but you'll have tornado 5.1.1 which is incompatible.\u001b[0m\n",
            "\u001b[31mERROR: google-auth 1.7.2 has requirement cachetools<3.2,>=2.0.0, but you'll have cachetools 4.0.0 which is incompatible.\u001b[0m\n",
            "Installing collected packages: blinker, tornado, pathtools, watchdog, toml, base58, enum-compat, validators, ipykernel, pydeck, cachetools, streamlit\n",
            "  Found existing installation: tornado 4.5.3\n",
            "    Uninstalling tornado-4.5.3:\n",
            "      Successfully uninstalled tornado-4.5.3\n",
            "  Found existing installation: ipykernel 4.6.1\n",
            "    Uninstalling ipykernel-4.6.1:\n",
            "      Successfully uninstalled ipykernel-4.6.1\n",
            "  Found existing installation: cachetools 3.1.1\n",
            "    Uninstalling cachetools-3.1.1:\n",
            "      Successfully uninstalled cachetools-3.1.1\n",
            "Successfully installed base58-2.0.0 blinker-1.4 cachetools-4.0.0 enum-compat-0.0.3 ipykernel-5.2.0 pathtools-0.1.2 pydeck-0.3.0b3 streamlit-0.57.1 toml-0.10.0 tornado-5.1.1 validators-0.14.2 watchdog-0.10.2\n"
          ],
          "name": "stdout"
        },
        {
          "output_type": "display_data",
          "data": {
            "application/vnd.colab-display-data+json": {
              "pip_warning": {
                "packages": [
                  "cachetools",
                  "ipykernel",
                  "tornado"
                ]
              }
            }
          },
          "metadata": {
            "tags": []
          }
        }
      ]
    },
    {
      "cell_type": "code",
      "metadata": {
        "id": "PW6SZRbXt9ll",
        "colab_type": "code",
        "colab": {}
      },
      "source": [
        "df_train['lat'] = np.nan\n",
        "df_train['lon'] = np.nan\n",
        "\n",
        "#del df_train['Country']\n"
      ],
      "execution_count": 0,
      "outputs": []
    },
    {
      "cell_type": "code",
      "metadata": {
        "id": "_2QNZrqKt9kC",
        "colab_type": "code",
        "outputId": "47de9f39-d5c3-485c-c9c4-96f83659785a",
        "colab": {
          "base_uri": "https://localhost:8080/",
          "height": 204
        }
      },
      "source": [
        "df_train.head()"
      ],
      "execution_count": 26,
      "outputs": [
        {
          "output_type": "execute_result",
          "data": {
            "text/html": [
              "<div>\n",
              "<style scoped>\n",
              "    .dataframe tbody tr th:only-of-type {\n",
              "        vertical-align: middle;\n",
              "    }\n",
              "\n",
              "    .dataframe tbody tr th {\n",
              "        vertical-align: top;\n",
              "    }\n",
              "\n",
              "    .dataframe thead th {\n",
              "        text-align: right;\n",
              "    }\n",
              "</style>\n",
              "<table border=\"1\" class=\"dataframe\">\n",
              "  <thead>\n",
              "    <tr style=\"text-align: right;\">\n",
              "      <th></th>\n",
              "      <th>UserId</th>\n",
              "      <th>Snack Subscription ID</th>\n",
              "      <th>prediction</th>\n",
              "      <th>lat</th>\n",
              "      <th>lon</th>\n",
              "    </tr>\n",
              "  </thead>\n",
              "  <tbody>\n",
              "    <tr>\n",
              "      <th>0</th>\n",
              "      <td>A00766851QZZUBOVF4JFT</td>\n",
              "      <td>13279300</td>\n",
              "      <td>0.851299</td>\n",
              "      <td>39.062691</td>\n",
              "      <td>-77.342987</td>\n",
              "    </tr>\n",
              "    <tr>\n",
              "      <th>1</th>\n",
              "      <td>A00766851QZZUBOVF4JFT</td>\n",
              "      <td>594511488</td>\n",
              "      <td>0.755003</td>\n",
              "      <td>39.051234</td>\n",
              "      <td>-77.344729</td>\n",
              "    </tr>\n",
              "    <tr>\n",
              "      <th>2</th>\n",
              "      <td>A00766851QZZUBOVF4JFT</td>\n",
              "      <td>594477670</td>\n",
              "      <td>0.866201</td>\n",
              "      <td>39.051660</td>\n",
              "      <td>-77.344723</td>\n",
              "    </tr>\n",
              "    <tr>\n",
              "      <th>3</th>\n",
              "      <td>A00766851QZZUBOVF4JFT</td>\n",
              "      <td>899336795</td>\n",
              "      <td>0.783059</td>\n",
              "      <td>39.052546</td>\n",
              "      <td>-77.344712</td>\n",
              "    </tr>\n",
              "    <tr>\n",
              "      <th>4</th>\n",
              "      <td>A00766851QZZUBOVF4JFT</td>\n",
              "      <td>594481902</td>\n",
              "      <td>0.678833</td>\n",
              "      <td>39.052131</td>\n",
              "      <td>-77.344504</td>\n",
              "    </tr>\n",
              "  </tbody>\n",
              "</table>\n",
              "</div>"
            ],
            "text/plain": [
              "                  UserId  Snack Subscription ID  ...        lat        lon\n",
              "0  A00766851QZZUBOVF4JFT               13279300  ...  39.062691 -77.342987\n",
              "1  A00766851QZZUBOVF4JFT              594511488  ...  39.051234 -77.344729\n",
              "2  A00766851QZZUBOVF4JFT              594477670  ...  39.051660 -77.344723\n",
              "3  A00766851QZZUBOVF4JFT              899336795  ...  39.052546 -77.344712\n",
              "4  A00766851QZZUBOVF4JFT              594481902  ...  39.052131 -77.344504\n",
              "\n",
              "[5 rows x 5 columns]"
            ]
          },
          "metadata": {
            "tags": []
          },
          "execution_count": 26
        }
      ]
    },
    {
      "cell_type": "code",
      "metadata": {
        "id": "7t6xp8P-Fs-M",
        "colab_type": "code",
        "outputId": "e77477fe-67e1-452a-9620-42b9f13d14d2",
        "colab": {
          "base_uri": "https://localhost:8080/",
          "height": 576
        }
      },
      "source": [
        "df_train.groupby(['Snack Subscription ID']).count()"
      ],
      "execution_count": 0,
      "outputs": [
        {
          "output_type": "execute_result",
          "data": {
            "text/html": [
              "<div>\n",
              "<style scoped>\n",
              "    .dataframe tbody tr th:only-of-type {\n",
              "        vertical-align: middle;\n",
              "    }\n",
              "\n",
              "    .dataframe tbody tr th {\n",
              "        vertical-align: top;\n",
              "    }\n",
              "\n",
              "    .dataframe thead th {\n",
              "        text-align: right;\n",
              "    }\n",
              "</style>\n",
              "<table border=\"1\" class=\"dataframe\">\n",
              "  <thead>\n",
              "    <tr style=\"text-align: right;\">\n",
              "      <th></th>\n",
              "      <th>UserId</th>\n",
              "      <th>prediction</th>\n",
              "      <th>lat</th>\n",
              "      <th>lon</th>\n",
              "    </tr>\n",
              "    <tr>\n",
              "      <th>Snack Subscription ID</th>\n",
              "      <th></th>\n",
              "      <th></th>\n",
              "      <th></th>\n",
              "      <th></th>\n",
              "    </tr>\n",
              "  </thead>\n",
              "  <tbody>\n",
              "    <tr>\n",
              "      <th>13279300</th>\n",
              "      <td>9685</td>\n",
              "      <td>9685</td>\n",
              "      <td>9685</td>\n",
              "      <td>9685</td>\n",
              "    </tr>\n",
              "    <tr>\n",
              "      <th>321732944</th>\n",
              "      <td>6888</td>\n",
              "      <td>6888</td>\n",
              "      <td>6888</td>\n",
              "      <td>6888</td>\n",
              "    </tr>\n",
              "    <tr>\n",
              "      <th>439886341</th>\n",
              "      <td>8196</td>\n",
              "      <td>8196</td>\n",
              "      <td>8196</td>\n",
              "      <td>8196</td>\n",
              "    </tr>\n",
              "    <tr>\n",
              "      <th>511189877</th>\n",
              "      <td>117</td>\n",
              "      <td>117</td>\n",
              "      <td>117</td>\n",
              "      <td>117</td>\n",
              "    </tr>\n",
              "    <tr>\n",
              "      <th>528881469</th>\n",
              "      <td>9479</td>\n",
              "      <td>9479</td>\n",
              "      <td>9479</td>\n",
              "      <td>9479</td>\n",
              "    </tr>\n",
              "    <tr>\n",
              "      <th>558835155</th>\n",
              "      <td>2039</td>\n",
              "      <td>2039</td>\n",
              "      <td>2039</td>\n",
              "      <td>2039</td>\n",
              "    </tr>\n",
              "    <tr>\n",
              "      <th>594012015</th>\n",
              "      <td>9621</td>\n",
              "      <td>9621</td>\n",
              "      <td>9621</td>\n",
              "      <td>9621</td>\n",
              "    </tr>\n",
              "    <tr>\n",
              "      <th>594451647</th>\n",
              "      <td>9534</td>\n",
              "      <td>9534</td>\n",
              "      <td>9534</td>\n",
              "      <td>9534</td>\n",
              "    </tr>\n",
              "    <tr>\n",
              "      <th>594477670</th>\n",
              "      <td>9617</td>\n",
              "      <td>9617</td>\n",
              "      <td>9617</td>\n",
              "      <td>9617</td>\n",
              "    </tr>\n",
              "    <tr>\n",
              "      <th>594481813</th>\n",
              "      <td>269</td>\n",
              "      <td>269</td>\n",
              "      <td>269</td>\n",
              "      <td>269</td>\n",
              "    </tr>\n",
              "    <tr>\n",
              "      <th>594481902</th>\n",
              "      <td>8473</td>\n",
              "      <td>8473</td>\n",
              "      <td>8473</td>\n",
              "      <td>8473</td>\n",
              "    </tr>\n",
              "    <tr>\n",
              "      <th>594482127</th>\n",
              "      <td>110</td>\n",
              "      <td>110</td>\n",
              "      <td>110</td>\n",
              "      <td>110</td>\n",
              "    </tr>\n",
              "    <tr>\n",
              "      <th>594511488</th>\n",
              "      <td>6817</td>\n",
              "      <td>6817</td>\n",
              "      <td>6817</td>\n",
              "      <td>6817</td>\n",
              "    </tr>\n",
              "    <tr>\n",
              "      <th>899336795</th>\n",
              "      <td>9550</td>\n",
              "      <td>9550</td>\n",
              "      <td>9550</td>\n",
              "      <td>9550</td>\n",
              "    </tr>\n",
              "    <tr>\n",
              "      <th>970407998</th>\n",
              "      <td>9530</td>\n",
              "      <td>9530</td>\n",
              "      <td>9530</td>\n",
              "      <td>9530</td>\n",
              "    </tr>\n",
              "    <tr>\n",
              "      <th>972683275</th>\n",
              "      <td>3035</td>\n",
              "      <td>3035</td>\n",
              "      <td>3035</td>\n",
              "      <td>3035</td>\n",
              "    </tr>\n",
              "  </tbody>\n",
              "</table>\n",
              "</div>"
            ],
            "text/plain": [
              "                       UserId  prediction   lat   lon\n",
              "Snack Subscription ID                                \n",
              "13279300                 9685        9685  9685  9685\n",
              "321732944                6888        6888  6888  6888\n",
              "439886341                8196        8196  8196  8196\n",
              "511189877                 117         117   117   117\n",
              "528881469                9479        9479  9479  9479\n",
              "558835155                2039        2039  2039  2039\n",
              "594012015                9621        9621  9621  9621\n",
              "594451647                9534        9534  9534  9534\n",
              "594477670                9617        9617  9617  9617\n",
              "594481813                 269         269   269   269\n",
              "594481902                8473        8473  8473  8473\n",
              "594482127                 110         110   110   110\n",
              "594511488                6817        6817  6817  6817\n",
              "899336795                9550        9550  9550  9550\n",
              "970407998                9530        9530  9530  9530\n",
              "972683275                3035        3035  3035  3035"
            ]
          },
          "metadata": {
            "tags": []
          },
          "execution_count": 159
        }
      ]
    },
    {
      "cell_type": "code",
      "metadata": {
        "id": "H9dImS8gDZ7l",
        "colab_type": "code",
        "outputId": "ed3d04f1-01c4-4130-eab1-179ef54eb3e5",
        "colab": {
          "base_uri": "https://localhost:8080/",
          "height": 419
        }
      },
      "source": [
        "df_train.iloc[:, 3:5]"
      ],
      "execution_count": 0,
      "outputs": [
        {
          "output_type": "execute_result",
          "data": {
            "text/html": [
              "<div>\n",
              "<style scoped>\n",
              "    .dataframe tbody tr th:only-of-type {\n",
              "        vertical-align: middle;\n",
              "    }\n",
              "\n",
              "    .dataframe tbody tr th {\n",
              "        vertical-align: top;\n",
              "    }\n",
              "\n",
              "    .dataframe thead th {\n",
              "        text-align: right;\n",
              "    }\n",
              "</style>\n",
              "<table border=\"1\" class=\"dataframe\">\n",
              "  <thead>\n",
              "    <tr style=\"text-align: right;\">\n",
              "      <th></th>\n",
              "      <th>lat</th>\n",
              "      <th>lon</th>\n",
              "    </tr>\n",
              "  </thead>\n",
              "  <tbody>\n",
              "    <tr>\n",
              "      <th>0</th>\n",
              "      <td>39.062691</td>\n",
              "      <td>-77.342987</td>\n",
              "    </tr>\n",
              "    <tr>\n",
              "      <th>1</th>\n",
              "      <td>39.051234</td>\n",
              "      <td>-77.344729</td>\n",
              "    </tr>\n",
              "    <tr>\n",
              "      <th>2</th>\n",
              "      <td>39.051660</td>\n",
              "      <td>-77.344723</td>\n",
              "    </tr>\n",
              "    <tr>\n",
              "      <th>3</th>\n",
              "      <td>39.052546</td>\n",
              "      <td>-77.344712</td>\n",
              "    </tr>\n",
              "    <tr>\n",
              "      <th>4</th>\n",
              "      <td>39.052131</td>\n",
              "      <td>-77.344504</td>\n",
              "    </tr>\n",
              "    <tr>\n",
              "      <th>...</th>\n",
              "      <td>...</td>\n",
              "      <td>...</td>\n",
              "    </tr>\n",
              "    <tr>\n",
              "      <th>102955</th>\n",
              "      <td>38.902201</td>\n",
              "      <td>-77.583019</td>\n",
              "    </tr>\n",
              "    <tr>\n",
              "      <th>102956</th>\n",
              "      <td>38.902991</td>\n",
              "      <td>-77.582950</td>\n",
              "    </tr>\n",
              "    <tr>\n",
              "      <th>102957</th>\n",
              "      <td>38.904375</td>\n",
              "      <td>-77.582687</td>\n",
              "    </tr>\n",
              "    <tr>\n",
              "      <th>102958</th>\n",
              "      <td>38.901904</td>\n",
              "      <td>-77.582740</td>\n",
              "    </tr>\n",
              "    <tr>\n",
              "      <th>102959</th>\n",
              "      <td>38.906413</td>\n",
              "      <td>-77.582522</td>\n",
              "    </tr>\n",
              "  </tbody>\n",
              "</table>\n",
              "<p>102960 rows × 2 columns</p>\n",
              "</div>"
            ],
            "text/plain": [
              "              lat        lon\n",
              "0       39.062691 -77.342987\n",
              "1       39.051234 -77.344729\n",
              "2       39.051660 -77.344723\n",
              "3       39.052546 -77.344712\n",
              "4       39.052131 -77.344504\n",
              "...           ...        ...\n",
              "102955  38.902201 -77.583019\n",
              "102956  38.902991 -77.582950\n",
              "102957  38.904375 -77.582687\n",
              "102958  38.901904 -77.582740\n",
              "102959  38.906413 -77.582522\n",
              "\n",
              "[102960 rows x 2 columns]"
            ]
          },
          "metadata": {
            "tags": []
          },
          "execution_count": 14
        }
      ]
    },
    {
      "cell_type": "code",
      "metadata": {
        "id": "BAuWcx82t9fk",
        "colab_type": "code",
        "colab": {}
      },
      "source": [
        "df_train.to_csv('Trained_output.csv', index = False, header=True)"
      ],
      "execution_count": 0,
      "outputs": []
    },
    {
      "cell_type": "code",
      "metadata": {
        "id": "4ypIT6umt9S3",
        "colab_type": "code",
        "outputId": "0ad90182-1d4f-415f-bc84-0812124acca7",
        "colab": {
          "base_uri": "https://localhost:8080/",
          "height": 34
        }
      },
      "source": [
        "df_train.shape"
      ],
      "execution_count": 0,
      "outputs": [
        {
          "output_type": "execute_result",
          "data": {
            "text/plain": [
              "(102960, 4)"
            ]
          },
          "metadata": {
            "tags": []
          },
          "execution_count": 71
        }
      ]
    },
    {
      "cell_type": "code",
      "metadata": {
        "id": "qjVvd4hLx-kd",
        "colab_type": "code",
        "outputId": "d14a51b0-806e-4ad1-e8e8-295d36380cb7",
        "colab": {
          "base_uri": "https://localhost:8080/",
          "height": 204
        }
      },
      "source": [
        "coordinate = pd.read_csv('/content/Loudoun_Parcel_XY.csv')\n",
        "coordinate.head()"
      ],
      "execution_count": 0,
      "outputs": [
        {
          "output_type": "execute_result",
          "data": {
            "text/html": [
              "<div>\n",
              "<style scoped>\n",
              "    .dataframe tbody tr th:only-of-type {\n",
              "        vertical-align: middle;\n",
              "    }\n",
              "\n",
              "    .dataframe tbody tr th {\n",
              "        vertical-align: top;\n",
              "    }\n",
              "\n",
              "    .dataframe thead th {\n",
              "        text-align: right;\n",
              "    }\n",
              "</style>\n",
              "<table border=\"1\" class=\"dataframe\">\n",
              "  <thead>\n",
              "    <tr style=\"text-align: right;\">\n",
              "      <th></th>\n",
              "      <th>OBJECTID</th>\n",
              "      <th>PA_MCPI</th>\n",
              "      <th>POINT_X</th>\n",
              "      <th>POINT_Y</th>\n",
              "      <th>POINT_X_SP</th>\n",
              "      <th>POINT_Y_SP</th>\n",
              "    </tr>\n",
              "  </thead>\n",
              "  <tbody>\n",
              "    <tr>\n",
              "      <th>0</th>\n",
              "      <td>1</td>\n",
              "      <td>1154444000</td>\n",
              "      <td>-77.342987</td>\n",
              "      <td>39.062691</td>\n",
              "      <td>1.181144e+07</td>\n",
              "      <td>7.072137e+06</td>\n",
              "    </tr>\n",
              "    <tr>\n",
              "      <th>1</th>\n",
              "      <td>2</td>\n",
              "      <td>2150124000</td>\n",
              "      <td>-77.344729</td>\n",
              "      <td>39.051234</td>\n",
              "      <td>1.181100e+07</td>\n",
              "      <td>7.067958e+06</td>\n",
              "    </tr>\n",
              "    <tr>\n",
              "      <th>2</th>\n",
              "      <td>3</td>\n",
              "      <td>2150139000</td>\n",
              "      <td>-77.344723</td>\n",
              "      <td>39.051660</td>\n",
              "      <td>1.181100e+07</td>\n",
              "      <td>7.068114e+06</td>\n",
              "    </tr>\n",
              "    <tr>\n",
              "      <th>3</th>\n",
              "      <td>4</td>\n",
              "      <td>2150272000</td>\n",
              "      <td>-77.344712</td>\n",
              "      <td>39.052546</td>\n",
              "      <td>1.181100e+07</td>\n",
              "      <td>7.068437e+06</td>\n",
              "    </tr>\n",
              "    <tr>\n",
              "      <th>4</th>\n",
              "      <td>5</td>\n",
              "      <td>2150656000</td>\n",
              "      <td>-77.344504</td>\n",
              "      <td>39.052131</td>\n",
              "      <td>1.181106e+07</td>\n",
              "      <td>7.068286e+06</td>\n",
              "    </tr>\n",
              "  </tbody>\n",
              "</table>\n",
              "</div>"
            ],
            "text/plain": [
              "   OBJECTID     PA_MCPI    POINT_X    POINT_Y    POINT_X_SP    POINT_Y_SP\n",
              "0         1  1154444000 -77.342987  39.062691  1.181144e+07  7.072137e+06\n",
              "1         2  2150124000 -77.344729  39.051234  1.181100e+07  7.067958e+06\n",
              "2         3  2150139000 -77.344723  39.051660  1.181100e+07  7.068114e+06\n",
              "3         4  2150272000 -77.344712  39.052546  1.181100e+07  7.068437e+06\n",
              "4         5  2150656000 -77.344504  39.052131  1.181106e+07  7.068286e+06"
            ]
          },
          "metadata": {
            "tags": []
          },
          "execution_count": 9
        }
      ]
    },
    {
      "cell_type": "code",
      "metadata": {
        "id": "F2FRZUYPyP0s",
        "colab_type": "code",
        "colab": {}
      },
      "source": [
        "coordinate=coordinate.iloc[:102960,0:]"
      ],
      "execution_count": 0,
      "outputs": []
    },
    {
      "cell_type": "code",
      "metadata": {
        "id": "15ldQ0sVyPs0",
        "colab_type": "code",
        "outputId": "31098055-3108-4f41-a5c8-bdeed6b11e4e",
        "colab": {
          "base_uri": "https://localhost:8080/",
          "height": 34
        }
      },
      "source": [
        "coordinate.shape"
      ],
      "execution_count": 0,
      "outputs": [
        {
          "output_type": "execute_result",
          "data": {
            "text/plain": [
              "(102960, 6)"
            ]
          },
          "metadata": {
            "tags": []
          },
          "execution_count": 11
        }
      ]
    },
    {
      "cell_type": "code",
      "metadata": {
        "id": "Ez0QcMkZzsKf",
        "colab_type": "code",
        "colab": {}
      },
      "source": [
        "coordinate_list = list(zip(coordinate.POINT_X.values,coordinate.POINT_Y.values))"
      ],
      "execution_count": 0,
      "outputs": []
    },
    {
      "cell_type": "code",
      "metadata": {
        "id": "pmUyXp2k5FOb",
        "colab_type": "code",
        "colab": {}
      },
      "source": [
        "coordinate = coordinate.rename(columns={\"POINT_X\":\"lat\",\"POINT_Y\":\"lon\"}, errors=\"raise\")"
      ],
      "execution_count": 0,
      "outputs": []
    },
    {
      "cell_type": "code",
      "metadata": {
        "id": "E9XpCGlDDF7_",
        "colab_type": "code",
        "colab": {}
      },
      "source": [
        "df_train['lat'] = coordinate.iloc[:,3:4]"
      ],
      "execution_count": 0,
      "outputs": []
    },
    {
      "cell_type": "code",
      "metadata": {
        "id": "wH0Gf7dFzsD6",
        "colab_type": "code",
        "colab": {}
      },
      "source": [
        " df_train['lon'] = coordinate.iloc[:,2:3]"
      ],
      "execution_count": 0,
      "outputs": []
    },
    {
      "cell_type": "code",
      "metadata": {
        "id": "ZOJQTURDyPkh",
        "colab_type": "code",
        "outputId": "0eaf492e-2451-4882-cf43-bfa500a3a18a",
        "colab": {
          "base_uri": "https://localhost:8080/",
          "height": 221
        }
      },
      "source": [
        "coordinate['POINT_X']"
      ],
      "execution_count": 0,
      "outputs": [
        {
          "output_type": "execute_result",
          "data": {
            "text/plain": [
              "0        -77.342987\n",
              "1        -77.344729\n",
              "2        -77.344723\n",
              "3        -77.344712\n",
              "4        -77.344504\n",
              "            ...    \n",
              "102955   -77.583019\n",
              "102956   -77.582950\n",
              "102957   -77.582687\n",
              "102958   -77.582740\n",
              "102959   -77.582522\n",
              "Name: POINT_X, Length: 102960, dtype: float64"
            ]
          },
          "metadata": {
            "tags": []
          },
          "execution_count": 78
        }
      ]
    },
    {
      "cell_type": "code",
      "metadata": {
        "id": "wKEX4fCFqSkT",
        "colab_type": "code",
        "outputId": "4d9a34e5-a9e2-4466-80fd-0a5a430febb5",
        "colab": {
          "base_uri": "https://localhost:8080/",
          "height": 238
        }
      },
      "source": [
        "# How to run a Dash app in Google Colab\n",
        "\n",
        "### Install ngrok\n",
        "!wget https://bin.equinox.io/c/4VmDzA7iaHb/ngrok-stable-linux-amd64.zip\n",
        "!unzip ngrok-stable-linux-amd64.zip"
      ],
      "execution_count": 27,
      "outputs": [
        {
          "output_type": "stream",
          "text": [
            "--2020-03-29 14:57:58--  https://bin.equinox.io/c/4VmDzA7iaHb/ngrok-stable-linux-amd64.zip\n",
            "Resolving bin.equinox.io (bin.equinox.io)... 35.168.162.120, 52.20.42.118, 34.196.12.177, ...\n",
            "Connecting to bin.equinox.io (bin.equinox.io)|35.168.162.120|:443... connected.\n",
            "HTTP request sent, awaiting response... 200 OK\n",
            "Length: 13773305 (13M) [application/octet-stream]\n",
            "Saving to: ‘ngrok-stable-linux-amd64.zip’\n",
            "\n",
            "ngrok-stable-linux- 100%[===================>]  13.13M  6.49MB/s    in 2.0s    \n",
            "\n",
            "2020-03-29 14:58:01 (6.49 MB/s) - ‘ngrok-stable-linux-amd64.zip’ saved [13773305/13773305]\n",
            "\n",
            "Archive:  ngrok-stable-linux-amd64.zip\n",
            "  inflating: ngrok                   \n"
          ],
          "name": "stdout"
        }
      ]
    },
    {
      "cell_type": "code",
      "metadata": {
        "id": "3yL3LKQ_qlAt",
        "colab_type": "code",
        "outputId": "57a9cda2-48fd-4dca-c215-cd4db15025c9",
        "colab": {
          "base_uri": "https://localhost:8080/",
          "height": 34
        }
      },
      "source": [
        "get_ipython().system_raw('./ngrok http 8501 &')\n",
        "\n",
        "### Get the public URL where you can access the Dash app. Copy this URL.\n",
        "! curl -s http://localhost:4040/api/tunnels | python3 -c \\\n",
        "    \"import sys, json; print(json.load(sys.stdin)['tunnels'][0]['public_url'])\""
      ],
      "execution_count": 47,
      "outputs": [
        {
          "output_type": "stream",
          "text": [
            "https://0f44077a.ngrok.io\n"
          ],
          "name": "stdout"
        }
      ]
    },
    {
      "cell_type": "code",
      "metadata": {
        "id": "Sc43E0yIpNHE",
        "colab_type": "code",
        "outputId": "cca14b48-8879-4c16-bc27-44ba9778a477",
        "colab": {
          "base_uri": "https://localhost:8080/",
          "height": 170
        }
      },
      "source": [
        "#!streamlit run RDM_visualise.py\n",
        "!streamlit run Integration.py"
      ],
      "execution_count": 48,
      "outputs": [
        {
          "output_type": "stream",
          "text": [
            "\u001b[0m\n",
            "\u001b[34m\u001b[1m  You can now view your Streamlit app in your browser.\u001b[0m\n",
            "\u001b[0m\n",
            "\u001b[34m  Network URL: \u001b[0m\u001b[1mhttp://172.28.0.2:8501\u001b[0m\n",
            "\u001b[34m  External URL: \u001b[0m\u001b[1mhttp://35.221.172.215:8501\u001b[0m\n",
            "\u001b[0m\n",
            "Generating the user/item affinity matrix...\n",
            "Matrix generated, sparseness percentage: 93\n",
            "\u001b[34m  Stopping...\u001b[0m\n"
          ],
          "name": "stdout"
        }
      ]
    },
    {
      "cell_type": "code",
      "metadata": {
        "id": "zY_L79JVpWC2",
        "colab_type": "code",
        "colab": {
          "base_uri": "https://localhost:8080/",
          "height": 615
        },
        "outputId": "87982c3c-d4b0-47f8-ccca-8753179a31f7"
      },
      "source": [
        "!pip install tensorflow"
      ],
      "execution_count": 44,
      "outputs": [
        {
          "output_type": "stream",
          "text": [
            "Requirement already satisfied: tensorflow in /usr/local/lib/python3.6/dist-packages (2.2.0rc1)\n",
            "Requirement already satisfied: gast==0.3.3 in /usr/local/lib/python3.6/dist-packages (from tensorflow) (0.3.3)\n",
            "Requirement already satisfied: numpy<2.0,>=1.16.0 in /usr/local/lib/python3.6/dist-packages (from tensorflow) (1.18.2)\n",
            "Requirement already satisfied: h5py<2.11.0,>=2.10.0 in /usr/local/lib/python3.6/dist-packages (from tensorflow) (2.10.0)\n",
            "Requirement already satisfied: tensorboard<2.2.0,>=2.1.0 in /usr/local/lib/python3.6/dist-packages (from tensorflow) (2.1.1)\n",
            "Requirement already satisfied: astunparse==1.6.3 in /usr/local/lib/python3.6/dist-packages (from tensorflow) (1.6.3)\n",
            "Requirement already satisfied: opt-einsum>=2.3.2 in /usr/local/lib/python3.6/dist-packages (from tensorflow) (3.2.0)\n",
            "Requirement already satisfied: six>=1.12.0 in /usr/local/lib/python3.6/dist-packages (from tensorflow) (1.12.0)\n",
            "Requirement already satisfied: wheel>=0.26; python_version >= \"3\" in /usr/local/lib/python3.6/dist-packages (from tensorflow) (0.34.2)\n",
            "Requirement already satisfied: scipy==1.4.1; python_version >= \"3\" in /usr/local/lib/python3.6/dist-packages (from tensorflow) (1.4.1)\n",
            "Requirement already satisfied: keras-preprocessing>=1.1.0 in /usr/local/lib/python3.6/dist-packages (from tensorflow) (1.1.0)\n",
            "Requirement already satisfied: google-pasta>=0.1.8 in /usr/local/lib/python3.6/dist-packages (from tensorflow) (0.2.0)\n",
            "Requirement already satisfied: tensorflow-estimator<2.3.0,>=2.2.0rc0 in /usr/local/lib/python3.6/dist-packages (from tensorflow) (2.2.0rc0)\n",
            "Requirement already satisfied: grpcio>=1.8.6 in /usr/local/lib/python3.6/dist-packages (from tensorflow) (1.27.2)\n",
            "Requirement already satisfied: wrapt>=1.11.1 in /usr/local/lib/python3.6/dist-packages (from tensorflow) (1.12.1)\n",
            "Requirement already satisfied: termcolor>=1.1.0 in /usr/local/lib/python3.6/dist-packages (from tensorflow) (1.1.0)\n",
            "Requirement already satisfied: absl-py>=0.7.0 in /usr/local/lib/python3.6/dist-packages (from tensorflow) (0.9.0)\n",
            "Requirement already satisfied: protobuf>=3.8.0 in /usr/local/lib/python3.6/dist-packages (from tensorflow) (3.10.0)\n",
            "Requirement already satisfied: google-auth<2,>=1.6.3 in /usr/local/lib/python3.6/dist-packages (from tensorboard<2.2.0,>=2.1.0->tensorflow) (1.7.2)\n",
            "Requirement already satisfied: google-auth-oauthlib<0.5,>=0.4.1 in /usr/local/lib/python3.6/dist-packages (from tensorboard<2.2.0,>=2.1.0->tensorflow) (0.4.1)\n",
            "Requirement already satisfied: werkzeug>=0.11.15 in /usr/local/lib/python3.6/dist-packages (from tensorboard<2.2.0,>=2.1.0->tensorflow) (1.0.0)\n",
            "Requirement already satisfied: requests<3,>=2.21.0 in /usr/local/lib/python3.6/dist-packages (from tensorboard<2.2.0,>=2.1.0->tensorflow) (2.21.0)\n",
            "Requirement already satisfied: markdown>=2.6.8 in /usr/local/lib/python3.6/dist-packages (from tensorboard<2.2.0,>=2.1.0->tensorflow) (3.2.1)\n",
            "Requirement already satisfied: setuptools>=41.0.0 in /usr/local/lib/python3.6/dist-packages (from tensorboard<2.2.0,>=2.1.0->tensorflow) (46.0.0)\n",
            "Requirement already satisfied: pyasn1-modules>=0.2.1 in /usr/local/lib/python3.6/dist-packages (from google-auth<2,>=1.6.3->tensorboard<2.2.0,>=2.1.0->tensorflow) (0.2.8)\n",
            "Requirement already satisfied: rsa<4.1,>=3.1.4 in /usr/local/lib/python3.6/dist-packages (from google-auth<2,>=1.6.3->tensorboard<2.2.0,>=2.1.0->tensorflow) (4.0)\n",
            "Requirement already satisfied: cachetools<3.2,>=2.0.0 in /usr/local/lib/python3.6/dist-packages (from google-auth<2,>=1.6.3->tensorboard<2.2.0,>=2.1.0->tensorflow) (3.1.1)\n",
            "Requirement already satisfied: requests-oauthlib>=0.7.0 in /usr/local/lib/python3.6/dist-packages (from google-auth-oauthlib<0.5,>=0.4.1->tensorboard<2.2.0,>=2.1.0->tensorflow) (1.3.0)\n",
            "Requirement already satisfied: chardet<3.1.0,>=3.0.2 in /usr/local/lib/python3.6/dist-packages (from requests<3,>=2.21.0->tensorboard<2.2.0,>=2.1.0->tensorflow) (3.0.4)\n",
            "Requirement already satisfied: idna<2.9,>=2.5 in /usr/local/lib/python3.6/dist-packages (from requests<3,>=2.21.0->tensorboard<2.2.0,>=2.1.0->tensorflow) (2.8)\n",
            "Requirement already satisfied: certifi>=2017.4.17 in /usr/local/lib/python3.6/dist-packages (from requests<3,>=2.21.0->tensorboard<2.2.0,>=2.1.0->tensorflow) (2019.11.28)\n",
            "Requirement already satisfied: urllib3<1.25,>=1.21.1 in /usr/local/lib/python3.6/dist-packages (from requests<3,>=2.21.0->tensorboard<2.2.0,>=2.1.0->tensorflow) (1.24.3)\n",
            "Requirement already satisfied: pyasn1<0.5.0,>=0.4.6 in /usr/local/lib/python3.6/dist-packages (from pyasn1-modules>=0.2.1->google-auth<2,>=1.6.3->tensorboard<2.2.0,>=2.1.0->tensorflow) (0.4.8)\n",
            "Requirement already satisfied: oauthlib>=3.0.0 in /usr/local/lib/python3.6/dist-packages (from requests-oauthlib>=0.7.0->google-auth-oauthlib<0.5,>=0.4.1->tensorboard<2.2.0,>=2.1.0->tensorflow) (3.1.0)\n"
          ],
          "name": "stdout"
        }
      ]
    },
    {
      "cell_type": "code",
      "metadata": {
        "id": "D-FGU59O0hkq",
        "colab_type": "code",
        "colab": {}
      },
      "source": [
        ""
      ],
      "execution_count": 0,
      "outputs": []
    }
  ]
}